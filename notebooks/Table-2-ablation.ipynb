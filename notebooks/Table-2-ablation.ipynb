{
 "cells": [
  {
   "cell_type": "code",
   "execution_count": null,
   "metadata": {},
   "outputs": [],
   "source": [
    "import numpy as np\n",
    "import pandas as pd\n",
    "import json\n",
    "import os"
   ]
  },
  {
   "cell_type": "code",
   "execution_count": null,
   "metadata": {},
   "outputs": [],
   "source": [
    "files = [os.path.join(\"tables\", item) for item in os.listdir(\"tables\") if item.endswith(\".json\")]\n",
    "table_headings = [\n",
    "    \"variable\",\n",
    "    \"units\",\n",
    "    \"base-no-ML\",\n",
    "    \"Tq-RF\",\n",
    "    \"TqR-RF\",\n",
    "    \"TquvR-RF\",\n",
    "    \"TquvR-NN\",\n",
    "    \"TqR-NN\"\n",
    "]\n",
    "\n",
    "ablation_data = []\n",
    "for file in files:\n",
    "    with open(file, \"r\") as f:\n",
    "        data = json.load(f)\n",
    "    if isinstance(data, dict):\n",
    "        data = [data]\n",
    "    for entry in data:\n",
    "        variable_data = []\n",
    "        for column in table_headings:\n",
    "            variable_data.append(entry[column])\n",
    "        ablation_data.append(variable_data)"
   ]
  },
  {
   "cell_type": "code",
   "execution_count": null,
   "metadata": {},
   "outputs": [],
   "source": [
    "df = pd.DataFrame(ablation_data, columns=table_headings)\n",
    "df"
   ]
  },
  {
   "cell_type": "code",
   "execution_count": null,
   "metadata": {},
   "outputs": [],
   "source": [
    "import matplotlib.pyplot as plt\n",
    "\n",
    "for variable in df[\"variable\"].values:\n",
    "    if variable.endswith(\"std\"):\n",
    "        continue\n",
    "\n",
    "    row = df.loc[ df[\"variable\"] == variable].values[0]\n",
    "    y = row[2:]\n",
    "    title = row[0]\n",
    "    labels = df.columns[2:].values\n",
    "    units = row[1]\n",
    "\n",
    "    if variable.endswith(\"mean\"):\n",
    "        for i in range(len(y)):\n",
    "            std = df.loc[ df[\"variable\"] == variable.replace(\"mean\", \"std\")].values[0][2:]\n",
    "            plt.bar([i,], [y[i],] , yerr=std[i], label=labels[i])\n",
    "\n",
    "    else:\n",
    "        for i in range(len(y)):\n",
    "            plt.bar([i,], [y[i],], label=labels[i])\n",
    "    plt.legend(bbox_to_anchor=(1.05, 1), loc='upper left')\n",
    "    plt.ylabel(units)\n",
    "    #plt.xaxis().set_visible(False)\n",
    "    plt.title(title)\n",
    "    plt.show()"
   ]
  },
  {
   "cell_type": "markdown",
   "metadata": {},
   "source": [
    "#### Can copy/paste this output into the latex document."
   ]
  },
  {
   "cell_type": "code",
   "execution_count": null,
   "metadata": {},
   "outputs": [],
   "source": [
    "row_names = {\n",
    "    \"h500_rms_global_day3-7_ic_mean\": \"Z500 RMSE 3-7d fcst\",\n",
    "    \"tmp850_rms_global_day3-7_ic_mean\": \"T850 RMSE 3-7d fcst\",\n",
    "    \"global_surface_precipitation_rmse\": \"Prec RMSE time-mean\",\n",
    "    \"land_surface_precipitation_bias\": \"Prec bias land-time-mean\",\n",
    "    \"TMP200_rmse\": \"T200 RMSE time-mean\"\n",
    "}\n",
    "\n",
    "print_table_data = []\n",
    "for variable in df.variable:\n",
    "    entry = df[df.variable==variable]\n",
    "    if \"ic_std\" not in variable:\n",
    "        variable_data = []\n",
    "        for heading in table_headings:\n",
    "            item = entry[heading].item()\n",
    "            if isinstance(item, float):\n",
    "                variable_data.append(\" {:.1f}\".format(item))\n",
    "            else:\n",
    "                variable_data.append(item)\n",
    "    else:\n",
    "        for i, heading in enumerate(table_headings):\n",
    "            item = entry[heading].item()\n",
    "            if isinstance(item, float):\n",
    "                variable_data[i] = (\n",
    "                    variable_data[i] \n",
    "                    + \" ({:.1f})\".format(item)\n",
    "                )\n",
    "    if \"ic_mean\" not in variable:\n",
    "        print_table_data.append(variable_data)\n",
    "table_df = pd.DataFrame(print_table_data, columns=table_headings)\n",
    "table_df"
   ]
  },
  {
   "cell_type": "code",
   "execution_count": null,
   "metadata": {},
   "outputs": [],
   "source": [
    "\n",
    "print(\n",
    "    table_df[table_df.variable.isin(row_names.keys())].replace(row_names).to_latex(\n",
    "        index=False, \n",
    "    )\n",
    ")"
   ]
  },
  {
   "cell_type": "markdown",
   "metadata": {},
   "source": [
    "#### effect of wind tendencies (compare 2-3) on the upper atmosphere air temperature bias"
   ]
  },
  {
   "cell_type": "code",
   "execution_count": null,
   "metadata": {},
   "outputs": [],
   "source": [
    "import fsspec\n",
    "import xarray as xr\n",
    "\n",
    "def plot_zonal_pressure_bias(diags, diags_baseline, var, **plot_kwargs):\n",
    "    fig = plt.figure()\n",
    "    ds = xr.concat(\n",
    "        [diags_baseline[[var]]] + [diags[experiment][[var]] for experiment in diags] ,\n",
    "        dim=pd.Index([\"baseline\"] + [f\"{tau} hr\" for tau in diags.keys()], name=\"timescale\")\n",
    "    )\n",
    "\n",
    "    return ds[var].plot(\n",
    "        x=\"latitude\",\n",
    "        yincrease=False,\n",
    "        col=\"timescale\",\n",
    "        **plot_kwargs\n",
    "    )\n",
    "    return fig"
   ]
  },
  {
   "cell_type": "code",
   "execution_count": null,
   "metadata": {},
   "outputs": [],
   "source": [
    "experiments = [\n",
    "    \"temperature-moisture-RF\",\n",
    "    \"temperature-moisture-winds-RF\",\n",
    "    \"temperature-moisture-winds-prescribed-sfc-RF\",\n",
    "    \"temperature-moisture-winds-prescribed-sfc-NN-ensemble\"\n",
    "]\n",
    "\n",
    "prog_run_paths = [\n",
    "    \"gs://vcm-ml-experiments/2021-05-11-nudge-to-c3072-corrected-winds/control-dq1-dq2-rf/initial_conditions_runs/20160805.000000\",\n",
    "    \"gs://vcm-ml-experiments/2021-05-11-nudge-to-c3072-corrected-winds/control-rf/prognostic_run_tendencies_only_ics/20160805.000000\",\n",
    "    \"gs://vcm-ml-experiments/2021-05-11-nudge-to-c3072-corrected-winds/rf/initial_conditions_runs/20160805.000000\",\n",
    "    \"gs://vcm-ml-experiments/2021-05-11-nudge-to-c3072-corrected-winds/nn-ensemble-model/initial_conditions_runs_rectified_nn_rad/20160805.000000\"\n",
    "]\n",
    "paths = [f\"gs://vcm-ml-public/argo/prog-report-nudge-to-3km-ablation-runs/{exp}\" for exp in experiments]\n",
    "\n",
    "\n",
    "with fsspec.open(\"gs://vcm-ml-public/argo/2021-05-04-nudge-to-c3072-prog-timescales/physics-on-baseline/diags.nc\", \"rb\") as f:\n",
    "    diags_baseline = xr.open_dataset(f).load()\n",
    "    \n",
    "    \n",
    "diags = {}\n",
    "for experiment, path in zip(experiments , paths):\n",
    "    print(path)\n",
    "    with fsspec.open(f\"{path}/diags.nc\", \"rb\") as f:\n",
    "        diags[experiment] = xr.open_dataset(f).load()"
   ]
  },
  {
   "cell_type": "code",
   "execution_count": null,
   "metadata": {},
   "outputs": [],
   "source": [
    "fig = plot_zonal_pressure_bias(diags, diags_baseline, \"air_temperature_pressure_level_zonal_bias\", vmax=30)\n",
    "fig.cbar.set_label(\"air temperature bias [K]\")\n",
    "\n",
    "# plot function puts baseline first\n",
    "labels = [\n",
    "    \"baseline\",\n",
    "    \"temperature-moisture \\n RF\",\n",
    "    \"temperature-moisture-winds \\n RF\",\n",
    "    \"temperature-moisture-winds \\n prescribed-sfc \\n RF\",\n",
    "    \"temperature-moisture-winds \\n prescribed-sfc \\n NN-ensemble\"\n",
    "]\n",
    "for ax, label in zip(fig.axes[0], labels):\n",
    "    ax.set_xlabel(\"Latitude [deg]\")\n",
    "    ax.set_title(label)\n",
    "fig.axes[0][0].set_ylabel(\"Pressure [Pa]\")"
   ]
  },
  {
   "cell_type": "code",
   "execution_count": null,
   "metadata": {},
   "outputs": [],
   "source": []
  }
 ],
 "metadata": {
  "kernelspec": {
   "display_name": "fv3net kernel",
   "language": "python",
   "name": "fv3net"
  },
  "language_info": {
   "codemirror_mode": {
    "name": "ipython",
    "version": 3
   },
   "file_extension": ".py",
   "mimetype": "text/x-python",
   "name": "python",
   "nbconvert_exporter": "python",
   "pygments_lexer": "ipython3",
   "version": "3.7.10"
  }
 },
 "nbformat": 4,
 "nbformat_minor": 4
}
