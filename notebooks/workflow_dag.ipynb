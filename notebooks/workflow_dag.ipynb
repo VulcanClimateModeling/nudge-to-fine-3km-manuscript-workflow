{
 "cells": [
  {
   "cell_type": "code",
   "execution_count": 2,
   "metadata": {},
   "outputs": [],
   "source": [
    "from graphviz import Digraph"
   ]
  },
  {
   "cell_type": "markdown",
   "metadata": {},
   "source": [
    "#### Comparison of RF and NN ensemble"
   ]
  },
  {
   "cell_type": "code",
   "execution_count": 6,
   "metadata": {},
   "outputs": [
    {
     "data": {
      "text/plain": [
       "'../main-experiment-dag.png'"
      ]
     },
     "execution_count": 6,
     "metadata": {},
     "output_type": "execute_result"
    }
   ],
   "source": [
    "dag = Digraph(node_attr={'shape': 'rectangle', 'fontname': 'courier'})\n",
    "\n",
    "fig_kwargs = {\n",
    "    \"shape\": \"oval\", \n",
    "    \"color\": \"blue\",\n",
    "    \"fontcolor\": \"blue\",\n",
    "    \"fontname\": \"helvetica\"\n",
    "}\n",
    "\n",
    "# workflow steps\n",
    "dag.node(name=\"nudging-run\", label=\"make nudge_to_fine_rad_precip_prescribed\")\n",
    "dag.node(name=\"train-data-zarrs\", label=\"make nudge_to_fine_training_data_zarrs\")\n",
    "dag.node(name=\"train-rf\", label=\"make train_rf\")\n",
    "dag.node(name=\"train-nn-seeds\", label=\"make train_nn_random_seeds\")\n",
    "dag.node(name=\"prog-nn-ensemble\", label=\"make prognostic_nn_ensemble_ics\")\n",
    "dag.node(name=\"nn-ensemble-offline-report\", label=\"make offline_report_nn_ensemble\")\n",
    "\n",
    "dag.node(name=\"prog-rf\", label=\"make prognostic_rf_ics\")\n",
    "dag.node(name=\"prog-report\", label=\"make prognostic_report_rf_nn_comparison\")\n",
    "\n",
    "dag.edges(\n",
    "    [\n",
    "        (\"nudging-run\", \"train-data-zarrs\"),\n",
    "        (\"train-data-zarrs\", \"train-rf\"),\n",
    "        (\"train-data-zarrs\", \"train-nn-seeds\"),\n",
    "        (\"train-nn-seeds\", \"nn-ensemble-offline-report\"),\n",
    "        (\"train-rf\", \"prog-rf\"),\n",
    "        (\"train-nn-seeds\", \"prog-nn-ensemble\"),\n",
    "        (\"prog-rf\", \"prog-report\"),\n",
    "        (\"prog-nn-ensemble\", \"prog-report\"),\n",
    "        \n",
    "    ]\n",
    ")\n",
    "\n",
    "dag.render(\"../main-experiment-dag\", view=True, format=\"png\", cleanup=True)"
   ]
  },
  {
   "cell_type": "markdown",
   "metadata": {},
   "source": [
    "#### Sensitivity to prescribed surface fluxes and precip in nudging run, "
   ]
  },
  {
   "cell_type": "code",
   "execution_count": 7,
   "metadata": {},
   "outputs": [
    {
     "data": {
      "text/plain": [
       "'../sensitivity-experiment-dag.png'"
      ]
     },
     "execution_count": 7,
     "metadata": {},
     "output_type": "execute_result"
    }
   ],
   "source": [
    "dag = Digraph(node_attr={'shape': 'rectangle', 'fontname': 'courier'})\n",
    "\n",
    "done_kwargs = {\n",
    "    \"color\": \"grey\",\n",
    "    \"fontcolor\": \"grey\",\n",
    "}\n",
    "\n",
    "# workflow steps\n",
    "dag.node(name=\"nudging-run-prescribed\", label=\"make nudge_to_fine_rad_precip_prescribed\", **done_kwargs)\n",
    "dag.node(name=\"nudging-run-control\", label=\"make nudge_to_fine_rad_precip_control\")\n",
    "\n",
    "dag.node(name=\"train-data-zarrs-prescribed\", label=\"make nudge_to_fine_training_data_zarrs_prescribed\", **done_kwargs)\n",
    "dag.node(name=\"train-data-zarrs-control\", label=\"make nudge_to_fine_training_data_zarrs_control\")\n",
    "\n",
    "dag.node(name=\"train-prescribed\", label=\"make train_rf\", **done_kwargs)\n",
    "dag.node(name=\"train-control\", label=\"make train_rf_control\")\n",
    "\n",
    "dag.node(name=\"prog-prescribed-ml-rad\", label=\"make prognostic_rf_ics\", **done_kwargs)\n",
    "\n",
    "dag.node(name=\"prog-control-ml-rad\", label=\"make prognostic_training_control_ml_tendencies_rad\")\n",
    "dag.node(name=\"prog-control-ml-tendencies-only\", label=\"make prognostic_training_control_ml_tendencies_only\")\n",
    "\n",
    "dag.node(name=\"prog-report\", label=\"make prognostic_report_sensitivity\")\n",
    "\n",
    "dag.edge(\"nudging-run-prescribed\", \"train-data-zarrs-prescribed\", **done_kwargs)\n",
    "dag.edge(\"train-data-zarrs-prescribed\", \"train-prescribed\",  **done_kwargs)\n",
    "dag.edge(\"train-prescribed\", \"prog-prescribed-ml-rad\", **done_kwargs)\n",
    "dag.edges(\n",
    "    [\n",
    "        (\"nudging-run-control\", \"train-data-zarrs-control\"),\n",
    "        \n",
    "        (\"train-data-zarrs-control\", \"train-control\"),\n",
    "        \n",
    "        (\"train-control\", \"prog-control-ml-rad\"),\n",
    "        (\"train-control\", \"prog-control-ml-tendencies-only\")\n",
    "        \n",
    "    ]\n",
    ")\n",
    "dag.edges([\n",
    "    (\"prog-control-ml-rad\", \"prog-report\"),\n",
    "    (\"prog-prescribed-ml-rad\", \"prog-report\"),\n",
    "    (\"prog-control-ml-tendencies-only\", \"prog-report\")\n",
    "])\n",
    "dag.render(\"../sensitivity-experiment-dag\", view=True, format=\"png\", cleanup=True)"
   ]
  },
  {
   "cell_type": "code",
   "execution_count": null,
   "metadata": {},
   "outputs": [],
   "source": [
    "\n"
   ]
  },
  {
   "cell_type": "code",
   "execution_count": null,
   "metadata": {},
   "outputs": [],
   "source": []
  }
 ],
 "metadata": {
  "kernelspec": {
   "display_name": "fv3net",
   "language": "python",
   "name": "fv3net"
  },
  "language_info": {
   "codemirror_mode": {
    "name": "ipython",
    "version": 3
   },
   "file_extension": ".py",
   "mimetype": "text/x-python",
   "name": "python",
   "nbconvert_exporter": "python",
   "pygments_lexer": "ipython3",
   "version": "3.7.9"
  }
 },
 "nbformat": 4,
 "nbformat_minor": 4
}
