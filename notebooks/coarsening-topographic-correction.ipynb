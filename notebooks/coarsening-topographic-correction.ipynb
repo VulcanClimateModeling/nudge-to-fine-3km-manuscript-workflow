{
 "cells": [
  {
   "cell_type": "markdown",
   "id": "57455ff0-6df1-4cee-a0bc-ff8d1164f663",
   "metadata": {},
   "source": [
    "### coarse-grain surface elevation correction plot\n",
    "\n",
    "Show the effects of imposing hydrostatic balance on coarse-grained topography"
   ]
  },
  {
   "cell_type": "code",
   "execution_count": null,
   "id": "e99c1476-563d-42fa-a811-0446ffade1e0",
   "metadata": {},
   "outputs": [],
   "source": [
    "from vcm.cubedsphere.coarsen import weighted_block_average\n",
    "from vcm.convenience import parse_timestep_str_from_path\n",
    "from vcm import open_tiles\n",
    "from vcm.catalog import catalog as CATALOG\n",
    "from matplotlib import pyplot as plt\n",
    "import matplotlib\n",
    "matplotlib.rcParams['font.size'] = 12\n",
    "import fv3viz\n",
    "import os\n",
    "import fsspec\n",
    "import numpy as np\n",
    "import xarray as xr\n",
    "from dask.diagnostics import ProgressBar"
   ]
  },
  {
   "cell_type": "code",
   "execution_count": null,
   "id": "cc3485ba-e81f-4d80-89d2-1551d6c8c10d",
   "metadata": {},
   "outputs": [],
   "source": [
    "RESTARTS_C384_PATH = 'gs://vcm-ml-raw/2020-05-27-40-day-X-SHiELD-simulation-C384-restart-files'\n",
    "FVCORE='{time:s}/{time:s}.fv_core_coarse.res'\n",
    "RESTARTS_C48_PATH = '40day_c48_restarts_as_zarr_may2020'\n",
    "GRID_C48 = CATALOG['grid/c48'].to_dask()\n",
    "GRID_C384 = CATALOG['grid/c384'].to_dask()\n",
    "GRAVITY=9.81\n",
    "SAMPLE_TIMESTEP = '20160805.120000'\n",
    "SAMPLE_TIMESTEP_2 = '20160801.001500'"
   ]
  },
  {
   "cell_type": "code",
   "execution_count": null,
   "id": "ec07c2c6-074d-4ff0-8656-b6644a49d4a1",
   "metadata": {},
   "outputs": [],
   "source": [
    "fs, _, _ = fsspec.get_fs_token_paths(RESTARTS_C384_PATH)\n",
    "timesteps = [parse_timestep_str_from_path(path) for path in fs.ls(RESTARTS_C384_PATH) if path.endswith('00')]\n",
    "dycore = open_tiles(os.path.join(RESTARTS_C384_PATH, FVCORE.format(time=SAMPLE_TIMESTEP)))"
   ]
  },
  {
   "cell_type": "code",
   "execution_count": null,
   "id": "bb0414b1-7728-46ff-ad24-50537e55bb7c",
   "metadata": {},
   "outputs": [],
   "source": [
    "phis_c48_area_average = weighted_block_average(\n",
    "    dycore['phis'].rename({'xaxis_1': 'x', 'yaxis_2': 'y'}),\n",
    "    GRID_C384['area'],\n",
    "    coarsening_factor=8,\n",
    "    x_dim='x',\n",
    "    y_dim='y'\n",
    ").squeeze()\n",
    "with ProgressBar():\n",
    "    phis_c48_area_average = phis_c48_area_average.load()"
   ]
  },
  {
   "cell_type": "code",
   "execution_count": null,
   "id": "2aaf3e2c-7775-419a-9fb1-4fdf4ca5a7ef",
   "metadata": {},
   "outputs": [],
   "source": [
    "restarts = CATALOG['40day_c48_restarts_as_zarr_may2020'].to_dask()\n",
    "phis_c48_hydrostatic_balance = (\n",
    "    restarts['phis']\n",
    "    .sel(time=SAMPLE_TIMESTEP)\n",
    "    .rename({'grid_yt': 'y', 'grid_xt': 'x'})\n",
    "    .assign_coords({'tile': list(range(6))})\n",
    ")\n",
    "with ProgressBar():\n",
    "    phis_c48_hydrostatic_balance = phis_c48_hydrostatic_balance.load()"
   ]
  },
  {
   "cell_type": "code",
   "execution_count": null,
   "id": "75db20b4-6378-4fa6-abb3-71bf5882d593",
   "metadata": {},
   "outputs": [],
   "source": [
    "phis_c48_hydrostatic_balance_2 = (\n",
    "    restarts['phis']\n",
    "    .sel(time=SAMPLE_TIMESTEP_2)\n",
    "    .rename({'grid_yt': 'y', 'grid_xt': 'x'})\n",
    "    .assign_coords({'tile': list(range(6))})\n",
    ")\n",
    "with ProgressBar():\n",
    "    phis_c48_hydrostatic_balance_2 = phis_c48_hydrostatic_balance_2.load()"
   ]
  },
  {
   "cell_type": "code",
   "execution_count": null,
   "id": "f3c39dd5-92ed-4866-aef5-ad4b13854ba6",
   "metadata": {},
   "outputs": [],
   "source": [
    "height_diff = ((phis_c48_hydrostatic_balance - phis_c48_area_average) / GRAVITY).assign_attrs({\n",
    "    'long_name': 'surface height difference, hydrostatic balance minus area average',\n",
    "    'units': 'm'\n",
    "})"
   ]
  },
  {
   "cell_type": "code",
   "execution_count": null,
   "id": "d51e4cd8-e2c7-4dd5-8311-6d9084531c89",
   "metadata": {},
   "outputs": [],
   "source": [
    "height_diff_2 = ((phis_c48_hydrostatic_balance_2 - phis_c48_area_average) / GRAVITY).assign_attrs({\n",
    "    'long_name': 'surface height difference, hydrostatic balance minus area average',\n",
    "    'units': 'm'\n",
    "})"
   ]
  },
  {
   "cell_type": "code",
   "execution_count": null,
   "id": "877c9425-b51c-449f-8e34-8e7f376b2e48",
   "metadata": {},
   "outputs": [],
   "source": [
    "diff_diff = (height_diff - height_diff_2).assign_attrs({\n",
    "    'long_name': 'surface height difference, hydrostatic balance minus area average',\n",
    "    'units': 'm'\n",
    "})"
   ]
  },
  {
   "cell_type": "code",
   "execution_count": null,
   "id": "91c70775-273f-4fca-a81a-d88c1f895655",
   "metadata": {},
   "outputs": [],
   "source": [
    "MAPPABLE_VAR_KWARGS = {\n",
    "    \"coord_x_center\": \"x\",\n",
    "    \"coord_y_center\": \"y\",\n",
    "    \"coord_x_outer\": \"x_interface\",\n",
    "    \"coord_y_outer\": \"y_interface\",\n",
    "    \"coord_vars\": {\n",
    "        \"lonb\": [\"y_interface\", \"x_interface\", \"tile\"],\n",
    "        \"latb\": [\"y_interface\", \"x_interface\", \"tile\"],\n",
    "        \"lon\": [\"y\", \"x\", \"tile\"],\n",
    "        \"lat\": [\"y\", \"x\", \"tile\"],\n",
    "    },\n",
    "}\n",
    "\n",
    "fig, axes, *_ = fv3viz.plot_cube(fv3viz.mappable_var(xr.merge([height_diff, GRID_C48]), 'phis', **MAPPABLE_VAR_KWARGS), vmin=-1500/GRAVITY, cmap='seismic')\n",
    "axes.item().set_title(SAMPLE_TIMESTEP)\n",
    "fig.set_size_inches([8, 4])\n",
    "fig.set_dpi(150)\n",
    "fig.savefig('figures/hydrostatic_terrain_correction.png', bbox_inches='tight')"
   ]
  },
  {
   "cell_type": "code",
   "execution_count": null,
   "id": "091c67b9-0f7a-41b2-ba99-9ab488f95587",
   "metadata": {},
   "outputs": [],
   "source": [
    "fig, ax = plt.subplots(1, 1)\n",
    "height_diff.plot.hist(yscale='log', color='b', bins=100, histtype='step', ax=ax)\n",
    "ax.set_title('correction distribution')\n",
    "fig.set_size_inches([6, 3])\n",
    "fig.set_dpi(150)\n",
    "fig.savefig('figures/hydrostatic_terrain_correction_distribution.png', bbox_inches='tight')"
   ]
  },
  {
   "cell_type": "code",
   "execution_count": null,
   "id": "71cc7d37-723a-40c0-a5a9-9b1a5dd6e37c",
   "metadata": {},
   "outputs": [],
   "source": [
    "MAPPABLE_VAR_KWARGS = {\n",
    "    \"coord_x_center\": \"x\",\n",
    "    \"coord_y_center\": \"y\",\n",
    "    \"coord_x_outer\": \"x_interface\",\n",
    "    \"coord_y_outer\": \"y_interface\",\n",
    "    \"coord_vars\": {\n",
    "        \"lonb\": [\"y_interface\", \"x_interface\", \"tile\"],\n",
    "        \"latb\": [\"y_interface\", \"x_interface\", \"tile\"],\n",
    "        \"lon\": [\"y\", \"x\", \"tile\"],\n",
    "        \"lat\": [\"y\", \"x\", \"tile\"],\n",
    "    },\n",
    "}\n",
    "\n",
    "fig, axes, *_ = fv3viz.plot_cube(fv3viz.mappable_var(xr.merge([diff_diff, GRID_C48]), 'phis', **MAPPABLE_VAR_KWARGS))\n",
    "axes.item().set_title('Correction difference between two timesteps')\n",
    "fig.set_size_inches([8, 4])\n",
    "fig.set_dpi(150)\n",
    "fig.savefig('figures/hydrostatic_terrain_correction_difference.png', bbox_inches='tight')"
   ]
  },
  {
   "cell_type": "code",
   "execution_count": null,
   "id": "35fa9b52-8cea-4b60-a0a8-5573955077ba",
   "metadata": {},
   "outputs": [],
   "source": []
  }
 ],
 "metadata": {
  "kernelspec": {
   "display_name": "fv3net kernel",
   "language": "python",
   "name": "fv3net"
  },
  "language_info": {
   "codemirror_mode": {
    "name": "ipython",
    "version": 3
   },
   "file_extension": ".py",
   "mimetype": "text/x-python",
   "name": "python",
   "nbconvert_exporter": "python",
   "pygments_lexer": "ipython3",
   "version": "3.7.10"
  }
 },
 "nbformat": 4,
 "nbformat_minor": 5
}
