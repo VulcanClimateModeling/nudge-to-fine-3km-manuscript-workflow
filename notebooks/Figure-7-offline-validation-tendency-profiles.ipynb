{
 "cells": [
  {
   "cell_type": "markdown",
   "id": "sensitive-corrections",
   "metadata": {},
   "source": [
    "### Offline validation tendency profiles"
   ]
  },
  {
   "cell_type": "code",
   "execution_count": null,
   "id": "likely-perspective",
   "metadata": {},
   "outputs": [],
   "source": [
    "import os\n",
    "import xarray as xr\n",
    "import numpy as np\n",
    "from dask.diagnostics import ProgressBar\n",
    "import fsspec\n",
    "from matplotlib import pyplot as plt\n",
    "import matplotlib as mpl\n",
    "import string\n",
    "import loaders\n",
    "import yaml\n",
    "from vcm.fv3.metadata import standardize_fv3_diagnostics\n",
    "from vcm.catalog import catalog as CATALOG\n",
    "from vcm.interpolate import interpolate_to_pressure_levels, PRESSURE_GRID\n",
    "from diagnostics_utils import weighted_average\n",
    "%run predictive_mapper.py"
   ]
  },
  {
   "cell_type": "code",
   "execution_count": null,
   "id": "chubby-expansion",
   "metadata": {},
   "outputs": [],
   "source": [
    "mpl.rcParams.update({'font.size': 8})\n",
    "colors = plt.rcParams['axes.prop_cycle'].by_key()['color']\n",
    "colors = [colors[ind] for ind in [0, 5, 6]]\n",
    "mpl.rcParams['axes.prop_cycle'] = mpl.cycler(color=colors) "
   ]
  },
  {
   "cell_type": "code",
   "execution_count": null,
   "id": "iraqi-consistency",
   "metadata": {},
   "outputs": [],
   "source": [
    "N2F_MODEL_URLS = {\n",
    "    '$TqR$-RF': 'gs://vcm-ml-experiments/2021-06-21-nudge-to-c3072-dq1-dq2-only/rf/trained_models/postphysics_ML_tendencies',\n",
    "    '$TqR$-NN': 'gs://vcm-ml-experiments/2021-05-11-nudge-to-c3072-corrected-winds/nn-ensemble-model/trained_models/dq1-dq2',\n",
    "    \n",
    "}\n",
    "\n",
    "N2F_TRAIN_TEST_DATA_URL = 'gs://vcm-ml-experiments/2021-04-13-n2f-c3072/3-hrly-ave-rad-precip-setting-30-min-rad-timestep-shifted-start-tke-edmf-3-hrly-ave-physics-tendencies'\n",
    "\n",
    "N2F_TEST_CONFIG = 'gs://vcm-ml-experiments/2021-06-21-nudge-to-c3072-dq1-dq2-only/rf/offline_diags/postphysics_ML_tendencies/config.yaml'\n",
    "\n",
    "OUTPUTDIR = 'figures'"
   ]
  },
  {
   "cell_type": "code",
   "execution_count": null,
   "id": "experimental-layer",
   "metadata": {},
   "outputs": [],
   "source": [
    "# load the models for making ML predictions and make a mapper\n",
    "\n",
    "nudging_variables = [\n",
    "    \"air_temperature\",\n",
    "    \"specific_humidity\",\n",
    "    \"x_wind\",\n",
    "    \"y_wind\",\n",
    "    \"pressure_thickness_of_atmospheric_layer\"\n",
    "]\n",
    "\n",
    "models = {}\n",
    "for ml_type, url in N2F_MODEL_URLS.items():\n",
    "    models[ml_type] = fv3fit.load(url)\n",
    "    \n",
    "grid_c48 = standardize_fv3_diagnostics(CATALOG[\"grid/c48\"].to_dask())\n",
    "\n",
    "additional_vars = ['pressure_thickness_of_atmospheric_layer',]\n",
    "\n",
    "predictive_mapper = PredictiveMapper(\n",
    "    models,\n",
    "    N2F_TRAIN_TEST_DATA_URL,\n",
    "    loaders.open_nudge_to_fine,\n",
    "    {'nudging_variables': nudging_variables},\n",
    "    grid_c48,\n",
    "    additional_vars=additional_vars\n",
    ")"
   ]
  },
  {
   "cell_type": "code",
   "execution_count": null,
   "id": "dirty-reform",
   "metadata": {},
   "outputs": [],
   "source": [
    "# evaluate over all of the test times\n",
    "with fsspec.open(N2F_TEST_CONFIG, 'r') as f:\n",
    "    config = yaml.safe_load(f)\n",
    "test_times = config['batch_kwargs']['timesteps']"
   ]
  },
  {
   "cell_type": "code",
   "execution_count": null,
   "id": "impressive-anatomy",
   "metadata": {},
   "outputs": [],
   "source": [
    "# augment the grid to make the plot less choppy\n",
    "pressures = xr.DataArray(sorted(list(PRESSURE_GRID.values) + list(np.arange(27500., 77500., 5000.))), dims=PRESSURE_GRID.dims)\n",
    "\n",
    "# load the predictions and targets, interpolate, and average\n",
    "tendencies = xr.concat([predictive_mapper[time] for time in test_times], dim='time')\n",
    "tendencies_pressure = interpolate_to_pressure_levels(\n",
    "    tendencies, tendencies.pressure_thickness_of_atmospheric_layer, dim='z', levels=pressures\n",
    ")\n",
    "tendencies_pressure_profiles = weighted_average(\n",
    "    tendencies_pressure, grid_c48['area']\n",
    ")\n",
    "with ProgressBar():\n",
    "    tendencies_pressure_profiles = tendencies_pressure_profiles.mean(dim='time').load()\n",
    "tendencies_pressure_profiles = tendencies_pressure_profiles.assign_coords(\n",
    "    pressure=(tendencies_pressure_profiles.pressure/100).assign_attrs({'units': 'hPa'}))"
   ]
  },
  {
   "cell_type": "code",
   "execution_count": null,
   "id": "hired-content",
   "metadata": {},
   "outputs": [],
   "source": [
    "def plot_dQ2_profile_case(da):\n",
    "    fig, ax = plt.subplots(1, 1)\n",
    "    ax.plot([0, 0], [1e3, 1], '-', color=[0.5, 0.5, 0.5], lw=1.5)\n",
    "    hr, = da.sel(derivation='$TqR$-RF').plot(y='pressure', yincrease=False, ax=ax, lw=2, label='$TqR$-RF')\n",
    "    hn, = da.sel(derivation='$TqR$-NN').plot(y='pressure', yincrease=False, ax=ax, lw=2, color=colors[1], label='$TqR$-NN')\n",
    "    ht, = da.sel(derivation='target').plot(y='pressure', yincrease=False, ax=ax, lw=1, color='k', label='target')\n",
    "    ax.legend()\n",
    "    ax.set_xlim([-0.75e-1, 2.5e-2])\n",
    "    ax.set_xticks(np.linspace(-5.0e-2, 0.0, 3))\n",
    "    ax.set_ylim([1e3, 1])\n",
    "    ax.set_ylabel('pressure [hPa]')\n",
    "    ax.set_xlabel('g/kg/3-hr')\n",
    "    ax.set_title('$\\Delta Q_q$')\n",
    "    ax.grid(axis='x')\n",
    "    fig.set_size_inches([3.8, 4.5])\n",
    "    fig.savefig(os.path.join(OUTPUTDIR, f\"Figure_7_offline_moistening_profile.eps\"), bbox_inches='tight')"
   ]
  },
  {
   "cell_type": "code",
   "execution_count": null,
   "id": "vocational-helmet",
   "metadata": {},
   "outputs": [],
   "source": [
    "plot_dQ2_profile_case(1000*3*3600*(tendencies_pressure_profiles.specific_humidity_tendency_due_to_ML))"
   ]
  },
  {
   "cell_type": "code",
   "execution_count": null,
   "id": "sought-houston",
   "metadata": {},
   "outputs": [],
   "source": [
    "# this converts matplotlib eps files to a more manageable size\n",
    "\n",
    "!epstopdf figures/Figure_7_offline_moistening_profile.eps\n",
    "!pdftops -eps figures/Figure_7_offline_moistening_profile.pdf\n",
    "!rm figures/Figure_7_offline_moistening_profile.pdf"
   ]
  }
 ],
 "metadata": {
  "kernelspec": {
   "display_name": "fv3net kernel",
   "language": "python",
   "name": "fv3net"
  },
  "language_info": {
   "codemirror_mode": {
    "name": "ipython",
    "version": 3
   },
   "file_extension": ".py",
   "mimetype": "text/x-python",
   "name": "python",
   "nbconvert_exporter": "python",
   "pygments_lexer": "ipython3",
   "version": "3.7.10"
  }
 },
 "nbformat": 4,
 "nbformat_minor": 5
}
