{
 "cells": [
  {
   "cell_type": "markdown",
   "id": "reasonable-watershed",
   "metadata": {},
   "source": [
    "### Prognostic IC ensemble RMSE and drifts\n",
    "\n",
    "Plotting weather forecast scale RMSEs and means for initial conditions and NN random seed ensembles of N2F-trained prognostic runs"
   ]
  },
  {
   "cell_type": "code",
   "execution_count": 1,
   "id": "accessible-western",
   "metadata": {},
   "outputs": [],
   "source": [
    "import xarray as xr\n",
    "from matplotlib import pyplot as plt\n",
    "import matplotlib as mpl\n",
    "from cycler import cycler\n",
    "import fv3viz\n",
    "import fsspec\n",
    "import json\n",
    "from vcm.catalog import catalog as CATALOG\n",
    "import os\n",
    "import numpy as np\n",
    "from vcm.fv3.metadata import standardize_fv3_diagnostics\n",
    "from vcm import open_remote_nc\n",
    "from dask.diagnostics import ProgressBar\n",
    "import warnings"
   ]
  },
  {
   "cell_type": "code",
   "execution_count": 3,
   "id": "28bf676d-4223-491d-a4db-e7a3e61bc8fe",
   "metadata": {},
   "outputs": [],
   "source": [
    "mpl.rcParams.update({'font.size': 8})\n",
    "colors = plt.rcParams['axes.prop_cycle'].by_key()['color']\n",
    "colors = [colors[ind] for ind in [3, 0, 8, 5]]\n",
    "mpl.rcParams['axes.prop_cycle'] = mpl.cycler(color=colors) "
   ]
  },
  {
   "cell_type": "code",
   "execution_count": null,
   "id": "suitable-summary",
   "metadata": {},
   "outputs": [],
   "source": [
    "INITIAL_CONDITIONS_ENSEMBLE = ['20160805.000000', '20160813.000000', '20160821.000000', '20160829.000000']\n",
    "BASELINE_NAME = 'base-no-ML'\n",
    "RUN_TYPE_ROOT_TEMPLATE = {\n",
    "    BASELINE_NAME: 'vcm-ml-experiments/2021-04-13/baseline-physics-run-{ic:s}-start-rad-step-1800s',\n",
    "    '$Tq$-RF': 'vcm-ml-experiments/2021-05-11-nudge-to-c3072-corrected-winds/control-dq1-dq2-rf/initial_conditions_runs/{ic:s}',\n",
    "    '$TqR$-RF': 'vcm-ml-experiments/2021-06-21-nudge-to-c3072-dq1-dq2-only/rf/initial_conditions_runs/{ic:s}',\n",
    "    '$TquvR$-RF': 'vcm-ml-experiments/2021-05-11-nudge-to-c3072-corrected-winds/rf/initial_conditions_runs/{ic:s}',\n",
    "    '$TquvR$-NN': 'vcm-ml-experiments/2021-05-11-nudge-to-c3072-corrected-winds/nn-ensemble-model/initial_conditions_runs_rectified_nn_rad/{ic:s}',\n",
    "    '$TqR$-NN': 'vcm-ml-experiments/2021-06-21-nudge-to-c3072-dq1-dq2-only/nn-ensemble-model/initial_conditions_runs/{ic:s}',\n",
    "}\n",
    "PROGNOSTIC_RUN_DIAGS_ROOT = 'gs://vcm-ml-archive/prognostic_run_diags/'\n",
    "DIAGS_NC = 'diags.nc'\n",
    "DIAGS_ZARR = 'diags.zarr'\n",
    "DROP_VARS = ['dqu_pressure_level_zonal_time_mean', 'dq2_pressure_level_zonal_time_mean', 'dq1_pressure_level_zonal_time_mean', 'dqv_pressure_level_zonal_time_mean']\n",
    "DRIFT_VARS = [\n",
    "    'total_precip_to_surface_spatial_mean_physics_land',\n",
    "    'pwat_spatial_mean_dycore_global',\n",
    "    'tmplowest_spatial_mean_dycore_global',\n",
    "    'lhtflsfc_spatial_mean_physics_land',\n",
    "    'column_integrated_pq1_spatial_mean_physics_global',\n",
    "    'column_integrated_q1_spatial_mean_physics_global',\n",
    "    'column_integrated_pq2_spatial_mean_physics_global',\n",
    "    'column_integrated_q2_spatial_mean_physics_global'\n",
    "]\n",
    "PRECIP_RATE = 'total_precipitation_rate'\n",
    "PHYSICS_PRECIP = 'PRATEsfc'\n",
    "CATALOG_KEY = '40day_c48_gfsphysics_15min_may2020'\n",
    "SECONDS_PER_DAY = 86400\n",
    "OUTDIR = 'figures'\n",
    "TABLES = 'tables'"
   ]
  },
  {
   "cell_type": "code",
   "execution_count": null,
   "id": "certain-sixth",
   "metadata": {},
   "outputs": [],
   "source": [
    "def abs_time_to_lead_time(ds):\n",
    "    abs_time = ds.time\n",
    "    lead_times = (abs_time - abs_time[0]).astype('timedelta64[m]')/np.timedelta64(1440, 'm')\n",
    "    lead_times = xr.DataArray(lead_times, dims=['time'], attrs={'units': 'days'})\n",
    "    ds = ds.assign_coords({'lead_time': lead_times}).swap_dims({'time': 'lead_time'})\n",
    "    return ds.drop_vars('time')\n",
    "\n",
    "\n",
    "def precipitation_bias(run_precip, verif_precip):\n",
    "    precip_bias = abs_time_to_lead_time(run_precip - precip_verif).rename('precipitation_bias')\n",
    "    precip_bias = SECONDS_PER_DAY*precip_bias\n",
    "    precip_bias = precip_bias.assign_attrs({\n",
    "        'long_name': 'precipitation bias (coarse minus fine)',\n",
    "        'units': 'mm/d'\n",
    "    })\n",
    "    return precip_bias"
   ]
  },
  {
   "cell_type": "code",
   "execution_count": null,
   "id": "89488cfc-7141-4688-ba6d-fa3ab7712ac0",
   "metadata": {},
   "outputs": [],
   "source": [
    "precip_verif = standardize_fv3_diagnostics(CATALOG[CATALOG_KEY].to_dask())[PHYSICS_PRECIP].rename('total_precipitation_rate')"
   ]
  },
  {
   "cell_type": "code",
   "execution_count": null,
   "id": "quick-hypothetical",
   "metadata": {},
   "outputs": [],
   "source": [
    "run_type_datasets = []\n",
    "precip_bias_dataarrays = []\n",
    "for run_type, path_template in RUN_TYPE_ROOT_TEMPLATE.items():\n",
    "    ensemble_datasets = []\n",
    "    ensemble_precip_bias_dataarrays = []\n",
    "    for ic in INITIAL_CONDITIONS_ENSEMBLE:\n",
    "        if run_type == BASELINE_NAME:\n",
    "            ic_path = path_template.format(ic=ic[:8])\n",
    "        else:\n",
    "            ic_path = path_template.format(ic=ic)\n",
    "        nc_path = os.path.join(\n",
    "            PROGNOSTIC_RUN_DIAGS_ROOT,\n",
    "            ic_path.replace('/', '-'),\n",
    "            DIAGS_NC\n",
    "        )\n",
    "        zarr_path = os.path.join('gs://', ic_path, DIAGS_ZARR)\n",
    "        print(f\"opening {nc_path}\")\n",
    "        fs, *_ = fsspec.get_fs_token_paths(nc_path)\n",
    "        member_ds = abs_time_to_lead_time(open_remote_nc(fs, nc_path))\n",
    "        ensemble_datasets.append(member_ds)\n",
    "        print(f\"opening {zarr_path}\")\n",
    "        member_precip = xr.open_zarr(fsspec.get_mapper(zarr_path), consolidated=True)[PRECIP_RATE]\n",
    "        member_precip_bias = precipitation_bias(member_precip, precip_verif)\n",
    "        ensemble_precip_bias_dataarrays.append(member_precip_bias)\n",
    "    run_type_datasets.append(\n",
    "        xr.concat(\n",
    "            ensemble_datasets,\n",
    "            dim=xr.DataArray(INITIAL_CONDITIONS_ENSEMBLE, dims=['ensemble'], name='ensemble'),\n",
    "            join='inner'\n",
    "        ).drop_vars(DROP_VARS, errors='ignore')\n",
    "    )\n",
    "    precip_bias_dataarrays.append(\n",
    "        xr.concat(\n",
    "            ensemble_precip_bias_dataarrays,\n",
    "            dim=xr.DataArray(INITIAL_CONDITIONS_ENSEMBLE, dims=['ensemble'], name='ensemble')\n",
    "        )\n",
    "    )"
   ]
  },
  {
   "cell_type": "code",
   "execution_count": null,
   "id": "d7f9829c-9f31-4ae4-867e-c88e18f3443b",
   "metadata": {},
   "outputs": [],
   "source": [
    "ds = xr.concat(run_type_datasets, dim=xr.DataArray(list(RUN_TYPE_ROOT_TEMPLATE.keys()), dims=['run_type'], name='run_type'))\n",
    "precip_bias = xr.concat(precip_bias_dataarrays, dim=xr.DataArray(list(RUN_TYPE_ROOT_TEMPLATE.keys()), dims=['run_type'], name='run_type'))"
   ]
  },
  {
   "cell_type": "code",
   "execution_count": null,
   "id": "radio-arlington",
   "metadata": {},
   "outputs": [],
   "source": [
    "def add_verification(ds):\n",
    "    verif_ds = xr.full_like(ds.sel(run_type=BASELINE_NAME), np.nan)\n",
    "    for var in DRIFT_VARS:\n",
    "        try:\n",
    "            verif_ds[var] = (ds[var] - ds[var.replace('spatial_mean', 'mean_bias')]).sel(run_type=BASELINE_NAME)\n",
    "        except KeyError:\n",
    "            pass\n",
    "    verif_ds = verif_ds.assign_coords({'run_type': ['verification']})\n",
    "    return xr.concat([ds, verif_ds], dim='run_type')"
   ]
  },
  {
   "cell_type": "code",
   "execution_count": null,
   "id": "upset-istanbul",
   "metadata": {},
   "outputs": [],
   "source": [
    "def ensemble_metrics(ds):\n",
    "    with xr.set_options(keep_attrs=True):\n",
    "        mean = ds.mean(dim='ensemble').expand_dims({'ensemble': ['mean']})\n",
    "        minimum = ds.min(dim='ensemble').expand_dims({'ensemble': ['min']})\n",
    "        maximum = ds.max(dim='ensemble').expand_dims({'ensemble': ['max']})\n",
    "        stdev = ds.std(dim='ensemble').expand_dims({'ensemble': ['std']})\n",
    "    return xr.merge([minimum, mean, maximum, stdev])"
   ]
  },
  {
   "cell_type": "code",
   "execution_count": null,
   "id": "expected-cooking",
   "metadata": {},
   "outputs": [],
   "source": [
    "# only use first 10 day of forecast for consistency\n",
    "ds = ds.sel(lead_time=slice(None, 10.0))\n",
    "ds = add_verification(ds)"
   ]
  },
  {
   "cell_type": "code",
   "execution_count": null,
   "id": "0d8a1526-b43e-460c-bd32-5d67bc3d8651",
   "metadata": {},
   "outputs": [],
   "source": [
    "with warnings.catch_warnings():\n",
    "    warnings.simplefilter(\"ignore\", category=RuntimeWarning)\n",
    "    ensemble_metrics_ds = ensemble_metrics(ds)"
   ]
  },
  {
   "cell_type": "code",
   "execution_count": null,
   "id": "eda49967-83af-480d-bf13-eaf1083991ed",
   "metadata": {},
   "outputs": [],
   "source": [
    "# dump ic mean rms metric\n",
    "fig, axes = plt.subplots(3, 1)\n",
    "ablation_rms_metrics = []\n",
    "for i, var in enumerate(['h500_rms_global', 'tmp850_rms_global', 'tmp200_rms_global']):\n",
    "    var_mean_metrics = {'variable': f\"{var}_day3-7_ic_mean\", 'units': ensemble_metrics_ds[var].attrs.get('units', '')}\n",
    "    var_std_metrics = {'variable': f\"{var}_day3-7_ic_std\", 'units': ensemble_metrics_ds[var].attrs.get('units', '')}\n",
    "    for run_type in RUN_TYPE_ROOT_TEMPLATE.keys():\n",
    "        var_mean_metrics[run_type.replace(\"$\", \"\")] = (\n",
    "            ensemble_metrics_ds[var]\n",
    "            .sel(ensemble='mean', lead_time=slice(3.0, 7.0), run_type=run_type)\n",
    "            .mean(dim='lead_time')\n",
    "            .item()\n",
    "        )\n",
    "        var_std_metrics[run_type.replace(\"$\", \"\")] = (\n",
    "            ensemble_metrics_ds[var]\n",
    "            .sel(ensemble='std', lead_time=slice(3.0, 7.0), run_type=run_type)\n",
    "            .mean(dim='lead_time')\n",
    "            .item()\n",
    "        )\n",
    "    ablation_rms_metrics.append(var_mean_metrics)\n",
    "    ablation_rms_metrics.append(var_std_metrics)\n",
    "    errors = ensemble_metrics_ds.sel(ensemble='std', lead_time=3.0)[var].to_series()\n",
    "    ensemble_metrics_ds.sel(ensemble='mean', lead_time=3.0)[var].to_series().plot.bar(ax=axes.flatten()[i], yerr=errors, capsize=4)\n",
    "    if i < 2:\n",
    "        axes.flatten()[i].set_xticklabels('')\n",
    "    axes.flatten()[i].set_ylabel(f\"{var}_day3-7_ic_mean\")\n",
    "    axes.flatten()[i].grid(axis='y')\n",
    "fig.set_size_inches(10, 10)\n",
    "fig.savefig('figures/rms_bar.png', bbox_inches='tight')\n",
    "with open(f\"{TABLES}/ablation_rms_metrics.json\", 'w') as f:\n",
    "    json.dump(ablation_rms_metrics, f)"
   ]
  },
  {
   "cell_type": "code",
   "execution_count": null,
   "id": "executed-arthritis",
   "metadata": {},
   "outputs": [],
   "source": [
    "RMS_VARS = [var for var in ensemble_metrics_ds.data_vars if 'rms_global' in var]\n",
    "rename_dict = {}\n",
    "for var in RMS_VARS:\n",
    "    rename_dict[var] = f\"{ensemble_metrics_ds[var].attrs.get('long_name', var.split('_rms_global')[0])} RMSE [{ensemble_metrics_ds[var].attrs.get('units', '')}]\"\n",
    "ds_rms = (\n",
    "    ensemble_metrics_ds[RMS_VARS]\n",
    "    .rename(rename_dict)\n",
    "    .to_array(dim='variable_names', name='prognostic_ic_ensemble_rms_variables')\n",
    "    .to_dataset()\n",
    "    .sel({'run_type': [\n",
    "        BASELINE_NAME,\n",
    "        '$TqR$-RF',\n",
    "        '$TqR$-NN',\n",
    "        '$TquvR$-NN'\n",
    "    ]})\n",
    ")"
   ]
  },
  {
   "cell_type": "code",
   "execution_count": null,
   "id": "lined-stamp",
   "metadata": {},
   "outputs": [],
   "source": [
    "def plot_ensemble(arr, lead_time, ax=None):\n",
    "    if ax is None:\n",
    "        ax=plt.gca()\n",
    "    h = ax.plot(lead_time, arr[1,:,:].T, lw=1.5)\n",
    "    for i in range(arr.shape[1]):\n",
    "        ax.fill_between(lead_time, arr[0, i, :], arr[2, i, :], alpha=0.25)\n",
    "    ax.grid()\n",
    "    return h"
   ]
  },
  {
   "cell_type": "code",
   "execution_count": null,
   "id": "described-gross",
   "metadata": {},
   "outputs": [],
   "source": [
    "def plot_all_vars(ds, varname, fig_size=[9, 12]):\n",
    "    fg = xr.plot.FacetGrid(data=ds, col='variable_names', col_wrap=3, sharey=False)\n",
    "    fg.map(plot_ensemble, varname, lead_time=ds.lead_time)\n",
    "    ax = fg.axes[0, 0]\n",
    "    n_lines = ds.sizes['run_type']\n",
    "    ax.legend(\n",
    "        ax.get_children()[n_lines:(2*n_lines)],\n",
    "        ds.run_type.values,\n",
    "        fontsize='x-small', loc=4\n",
    "    )\n",
    "    ax.set_xticks(np.arange(11))\n",
    "    ax.set_xlim([0, 10])\n",
    "    fg.set_titles(template='{value}', maxchar=50)      \n",
    "    fg.set_ylabels('')\n",
    "    fg.set_xlabels('Forecast lead time [days]')\n",
    "    fg.fig.set_size_inches(fig_size)\n",
    "    fg.fig.savefig(f'{OUTDIR}/Figure_A5_{varname}.pdf', bbox_inches='tight', facecolor='white')"
   ]
  },
  {
   "cell_type": "code",
   "execution_count": null,
   "id": "daddf23a-0400-4f78-b3a8-d96b71bb86d3",
   "metadata": {},
   "outputs": [],
   "source": [
    "RMS_SUBSET_VARS = ['h500_rms_global', 'tmp850_rms_global']\n",
    "rename_dict = {}\n",
    "for var in RMS_SUBSET_VARS:\n",
    "    rename_dict[var] = f\"{ensemble_metrics_ds[var].attrs.get('long_name', var.split('_rms_global')[0])} RMSE [{ensemble_metrics_ds[var].attrs.get('units', '')}]\"\n",
    "ds_rms_subset = (\n",
    "    ensemble_metrics_ds[RMS_SUBSET_VARS]\n",
    "    .rename(rename_dict)\n",
    "    .to_array(\n",
    "        dim='variable_names',\n",
    "        name='prognostic_ic_ensemble_rms_subset_variables'\n",
    "    )\n",
    "    .to_dataset()\n",
    "    .sel({'run_type': [\n",
    "        BASELINE_NAME,\n",
    "        '$TqR$-RF',\n",
    "        '$TqR$-NN',\n",
    "        '$TquvR$-NN',\n",
    "    ]})\n",
    ")\n",
    "plot_all_vars(\n",
    "    ds_rms_subset,\n",
    "    'prognostic_ic_ensemble_rms_subset_variables',\n",
    "    fig_size=[7.6, 3]\n",
    ")"
   ]
  }
 ],
 "metadata": {
  "kernelspec": {
   "display_name": "fv3net kernel",
   "language": "python",
   "name": "fv3net"
  },
  "language_info": {
   "codemirror_mode": {
    "name": "ipython",
    "version": 3
   },
   "file_extension": ".py",
   "mimetype": "text/x-python",
   "name": "python",
   "nbconvert_exporter": "python",
   "pygments_lexer": "ipython3",
   "version": "3.7.10"
  }
 },
 "nbformat": 4,
 "nbformat_minor": 5
}
