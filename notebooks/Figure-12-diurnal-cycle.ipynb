{
 "cells": [
  {
   "cell_type": "code",
   "execution_count": null,
   "metadata": {},
   "outputs": [],
   "source": [
    "%matplotlib inline\n",
    "\n",
    "import matplotlib.pyplot as plt\n",
    "\n",
    "import cftime\n",
    "import intake\n",
    "import fsspec\n",
    "import numpy as np\n",
    "import pandas as pd\n",
    "import xarray as xr\n",
    "from dask.diagnostics import ProgressBar\n",
    "\n",
    "import fv3viz as viz\n",
    "from vcm.catalog import catalog\n",
    "from vcm import local_time\n",
    "\n",
    "def weighted_average(array, weights, axis=None):\n",
    "    return np.nansum(array * weights, axis=axis) / np.nansum(weights, axis=axis)"
   ]
  },
  {
   "cell_type": "code",
   "execution_count": null,
   "metadata": {},
   "outputs": [],
   "source": [
    "with fsspec.open(\"gs://vcm-ml-public/argo/prog-report-nudge-to-3km-compare-dq1-dq2-only/neural_networks_dQ1_dQ2_only/diags.nc\", \"rb\") as f:\n",
    "    diags_nn = xr.open_dataset(f).load()\n",
    "    \n",
    "with fsspec.open(\"gs://vcm-ml-public/argo/prog-report-nudge-to-3km-compare-dq1-dq2-only/random_forests_dQ1_dQ2_only/diags.nc\", \"rb\") as f:\n",
    "    diags_rf = xr.open_dataset(f).load()\n",
    "    \n",
    "with fsspec.open(\"gs://vcm-ml-public/argo/prog-report-nudge-to-3km-nn-rf-comparison/baseline/diags.nc\", \"rb\") as f:\n",
    "    diags_baseline = xr.open_dataset(f).load()\n",
    "    \n",
    "    "
   ]
  },
  {
   "cell_type": "code",
   "execution_count": null,
   "metadata": {},
   "outputs": [],
   "source": [
    "nudged_run_diags_zarr = \"gs://vcm-ml-experiments/2021-04-13-n2f-c3072/3-hrly-ave-rad-precip-setting-30-min-rad-timestep-shifted-start-tke-edmf/diags.zarr\"\n",
    "nudged_run_diags = intake.open_zarr(nudged_run_diags_zarr).to_dask()\n",
    "nudged_run_diags = nudged_run_diags.isel(time=slice(475, None)).resample(time='1H').nearest() # follow what the prognostic run report does to compute diurnal cycles"
   ]
  },
  {
   "cell_type": "code",
   "execution_count": null,
   "metadata": {},
   "outputs": [],
   "source": [
    "grid = catalog['grid/c48'].to_dask()\n",
    "mask = catalog['landseamask/c48'].to_dask().land_sea_mask"
   ]
  },
  {
   "cell_type": "code",
   "execution_count": null,
   "metadata": {},
   "outputs": [],
   "source": [
    "SECONDS_PER_DAY=86400\n",
    "\n",
    "def total_precipitation_rate(physics_precipitation, column_integrated_moistening):\n",
    "    total_precipitation_rate_unrectified = SECONDS_PER_DAY*(physics_precipitation - column_integrated_moistening)\n",
    "    total_precipitation_rate = total_precipitation_rate_unrectified.where(total_precipitation_rate_unrectified > 0, 0.0)\n",
    "    total_precipitation_rate.attrs = {'long_name': 'total precip rate to surface max(PRATE - <dQ2> - <nQ2>, 0)', 'units': 'mm/day'}\n",
    "    total_precipitation_rate_unrectified.attrs = {'long_name': 'total precip rate to surface PRATE - <dQ2> - <nQ2>', 'units': 'mm/day'}\n",
    "    return total_precipitation_rate.rename('total_precipitation_rate'), total_precipitation_rate_unrectified.rename('total_precipitation_rate_unrectified')"
   ]
  },
  {
   "cell_type": "code",
   "execution_count": null,
   "metadata": {},
   "outputs": [],
   "source": [
    "def diurnal_cycles(ds):\n",
    "    local_time_ = local_time(ds, time=\"time\", lon_var=\"lon\")\n",
    "    local_time_.attrs = {\"long_name\": \"local time\", \"units\": \"hour\"}\n",
    "    ds[\"local_time\"] = np.floor(local_time_)  # equivalent to hourly binning\n",
    "    with xr.set_options(keep_attrs=True):\n",
    "        diurnal_cycles = ds.drop(\"lon\").groupby(\"local_time\").mean()\n",
    "    return diurnal_cycles"
   ]
  },
  {
   "cell_type": "code",
   "execution_count": null,
   "metadata": {},
   "outputs": [],
   "source": [
    "with ProgressBar():\n",
    "    target_total_precipitation_rate, target_total_precipitation_rate_unrectified = total_precipitation_rate(nudged_run_diags.physics_precip, nudged_run_diags.net_moistening_due_to_nudging)\n",
    "    target_total_precipitation_rate = target_total_precipitation_rate.load()\n",
    "    target_total_precipitation_rate_unrectified = target_total_precipitation_rate_unrectified.load()"
   ]
  },
  {
   "cell_type": "code",
   "execution_count": null,
   "metadata": {},
   "outputs": [],
   "source": [
    "target_total_precipitation_rate_land = target_total_precipitation_rate.where(mask == 1.0)\n",
    "target_total_precipitation_rate_unrectified_land = target_total_precipitation_rate_unrectified.where(mask == 1.0)"
   ]
  },
  {
   "cell_type": "code",
   "execution_count": null,
   "metadata": {},
   "outputs": [],
   "source": [
    "with ProgressBar():\n",
    "    diurnal_cycles = diurnal_cycles(xr.merge([\n",
    "        target_total_precipitation_rate_land,\n",
    "        target_total_precipitation_rate_unrectified_land,\n",
    "        nudged_run_diags.physics_precip,\n",
    "        nudged_run_diags.net_moistening_due_to_nudging,\n",
    "        grid.lon\n",
    "    ]))"
   ]
  },
  {
   "cell_type": "code",
   "execution_count": null,
   "metadata": {},
   "outputs": [],
   "source": [
    "default_colormap = plt.rcParams['axes.prop_cycle'].by_key()['color']\n",
    "\n",
    "colors = {\n",
    "    \"base-no-ML\": default_colormap[3],\n",
    "    \"$TqR$-RF\": default_colormap[0],\n",
    "    \"$TqR$-NN\": default_colormap[5],\n",
    "}"
   ]
  },
  {
   "cell_type": "code",
   "execution_count": null,
   "metadata": {},
   "outputs": [],
   "source": [
    "var = 'total_precip_to_surface_diurnal_land'\n",
    "\n",
    "labels = [\"base-no-ML\", \"$TqR$-NN\", \"$TqR$-RF\"]\n",
    "datasets = [diags_baseline, diags_nn, diags_rf]\n",
    "\n",
    "verif_land_precip_diurnal = diags_baseline[var] - diags_baseline['diurn_bias_total-precipitation_diurnal_land']\n",
    "\n",
    "fig = plt.figure(figsize=(8,7))\n",
    "\n",
    "verif_land_precip_diurnal.plot(label=\"fine grid\", linestyle=\"--\", color=\"black\", linewidth=3)\n",
    "diurnal_cycles.total_precipitation_rate_unrectified.plot(label=r\"physics precipitation - $\\langle \\Delta Q_q \\rangle$\", linestyle=\":\", color=\"black\", linewidth=3)\n",
    "for label, ds in zip(labels, datasets):\n",
    "    ds[var].plot(label=label, linewidth=2, color=colors[label])\n",
    "\n",
    "plt.legend(fontsize=12)\n",
    "plt.grid(True, axis=\"both\", alpha=0.4)\n",
    "plt.xlim(0, 23)\n",
    "plt.ylim(1.3, 4.4)\n",
    "plt.xlabel(\"local time [hr]\", fontsize=14)\n",
    "plt.ylabel(\"[mm / day]\", fontsize=14)\n",
    "plt.xticks(fontsize=14)\n",
    "plt.yticks(fontsize=14)\n",
    "\n",
    "plt.title(\"Diurnal cycle of precipitation over land\", fontsize=18)\n",
    "fig.savefig(\"figures/Figure_12_PrecLandDiurnalCycle.pdf\", bbox_inches = \"tight\")"
   ]
  },
  {
   "cell_type": "code",
   "execution_count": null,
   "metadata": {},
   "outputs": [],
   "source": []
  }
 ],
 "metadata": {
  "kernelspec": {
   "display_name": "fv3net",
   "language": "python",
   "name": "fv3net"
  },
  "language_info": {
   "codemirror_mode": {
    "name": "ipython",
    "version": 3
   },
   "file_extension": ".py",
   "mimetype": "text/x-python",
   "name": "python",
   "nbconvert_exporter": "python",
   "pygments_lexer": "ipython3",
   "version": "3.7.10"
  }
 },
 "nbformat": 4,
 "nbformat_minor": 4
}
