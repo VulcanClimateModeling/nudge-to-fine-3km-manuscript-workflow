{
 "cells": [
  {
   "cell_type": "markdown",
   "id": "regulated-antenna",
   "metadata": {},
   "source": [
    "### Offline validation tendency profiles"
   ]
  },
  {
   "cell_type": "code",
   "execution_count": null,
   "id": "pediatric-victim",
   "metadata": {},
   "outputs": [],
   "source": [
    "import os\n",
    "import xarray as xr\n",
    "import fsspec\n",
    "from matplotlib import pyplot as plt\n",
    "import matplotlib\n",
    "matplotlib.rcParams.update({'font.size': 14})"
   ]
  },
  {
   "cell_type": "code",
   "execution_count": null,
   "id": "olive-obligation",
   "metadata": {},
   "outputs": [],
   "source": [
    "CASES = dict(\n",
    "    nudged_prescribed_sfc_rad_precip_RF=['gs://vcm-ml-experiments/2021-05-11-nudge-to-c3072-corrected-winds/rf/offline_diags/postphysics_ML_tendencies/offline_diagnostics.nc'],\n",
    "    nudged_prescribed_sfc_rad_precip_NN=[\n",
    "        'gs://vcm-ml-experiments/2021-05-11-nudge-to-c3072-corrected-winds/nn-ensemble-model/offline_diags/dq1-dq2/offline_diagnostics.nc',\n",
    "        'gs://vcm-ml-experiments/2021-05-11-nudge-to-c3072-corrected-winds/nn-ensemble-model/offline_diags/dqu-dqv/offline_diagnostics.nc'\n",
    "    ]\n",
    ")\n",
    "\n",
    "OUTPUTDIR = 'figures'"
   ]
  },
  {
   "cell_type": "code",
   "execution_count": null,
   "id": "continent-million",
   "metadata": {},
   "outputs": [],
   "source": [
    "def open_diags(path):\n",
    "    with fsspec.open(path, 'rb') as f:\n",
    "        ds = xr.open_dataset(f).load()\n",
    "    return ds\n",
    "\n",
    "datasets = []\n",
    "for case, paths in CASES.items():\n",
    "    print(case)\n",
    "    if len(paths) == 1:\n",
    "        datasets.append(open_diags(paths[0]).assign_coords({'cases': case}))\n",
    "    else:\n",
    "        case_datasets = []\n",
    "        for path in paths:\n",
    "            case_datasets.append(open_diags(path))\n",
    "        dataset = xr.merge(case_datasets, compat='override')         \n",
    "        datasets.append(dataset.assign_coords({'cases': case}))\n",
    "diags = xr.concat(datasets, dim=\"cases\")"
   ]
  },
  {
   "cell_type": "code",
   "execution_count": null,
   "id": "excessive-pension",
   "metadata": {},
   "outputs": [],
   "source": [
    "R2_VARS = {\n",
    "    'dQ2': 'kg/kg/s',\n",
    "    'dQ1': 'K/s',\n",
    "    'dQu': 'm/s^2',\n",
    "    'dQv': 'm/s^2'\n",
    "}\n",
    "\n",
    "def add_R2(ds):\n",
    "    for var in R2_VARS:\n",
    "        ds[f\"pressure_level-R2-{var}\"] = 1.0 - ds[f'pressure_level-mse-{var}-predict_vs_target']/ds[f'pressure_level-mse-{var}-mean_vs_target']\n",
    "    return ds\n",
    "\n",
    "diags = add_R2(diags)"
   ]
  },
  {
   "cell_type": "code",
   "execution_count": null,
   "id": "outstanding-prospect",
   "metadata": {},
   "outputs": [],
   "source": [
    "def plot_R2_cases(da):\n",
    "    fig, ax = plt.subplots(1, 1)\n",
    "    if 'dQv' in da.name:\n",
    "        h = da.plot(y='pressure', hue='cases', yincrease=False, ax=ax, lw=2)\n",
    "        plt.legend(h, ['RF', 'NN-ens'], loc=1)\n",
    "    else:\n",
    "        da.plot(y='pressure', hue='cases', yincrease=False, ax=ax, lw=2, add_legend=False)\n",
    "    ax.set_xlim([0, 0.5])\n",
    "    ax.set_ylim([1.0e5, 0])\n",
    "    ax.set_ylabel('pressure [hPa]')\n",
    "    ax.set_xlabel('$R^{2}$')\n",
    "    ax.set_title(da.name.split('R2-')[1])\n",
    "    ax.grid(axis='x')\n",
    "    fig.tight_layout()\n",
    "    fig.set_size_inches([6, 6])\n",
    "    fig.set_dpi(150)\n",
    "    fig.savefig(os.path.join(OUTPUTDIR, f\"{da.name}-R2.png\"), bbox_inches='tight')"
   ]
  },
  {
   "cell_type": "code",
   "execution_count": null,
   "id": "addressed-cradle",
   "metadata": {},
   "outputs": [],
   "source": [
    "for var in R2_VARS:\n",
    "    plot_R2_cases(diags[f\"pressure_level-R2-{var}\"].sel(cases=['nudged_prescribed_sfc_rad_precip_RF', 'nudged_prescribed_sfc_rad_precip_NN']))"
   ]
  },
  {
   "cell_type": "code",
   "execution_count": null,
   "id": "verified-rainbow",
   "metadata": {},
   "outputs": [],
   "source": [
    "def plot_dQ_profile_cases(da, units):\n",
    "    fig, ax = plt.subplots(1, 1)\n",
    "    ax.plot([0, 0], [1, 79], 'k-')\n",
    "    hr, = da.sel(derivation='predict', cases='nudged_prescribed_sfc_rad_precip_RF').plot(y='z', yincrease=False, ax=ax, lw=2, color='b')\n",
    "    hn, = da.sel(derivation='predict', cases='nudged_prescribed_sfc_rad_precip_NN').plot(y='z', yincrease=False, ax=ax, lw=2, color='orange')\n",
    "    ht, = da.sel(derivation='target', cases='nudged_prescribed_sfc_rad_precip_RF').plot(y='z', yincrease=False, ax=ax, lw=2, color='k')\n",
    "    plt.legend([ht, hr, hn], ['target', 'RF', 'NN-ensemble'], loc=2)\n",
    "    ax.set_ylim([79, 1])\n",
    "    ax.set_ylabel('model level')\n",
    "    ax.set_xlabel(units)\n",
    "    ax.set_title(da.name)\n",
    "    ax.grid(axis='x')\n",
    "    fig.tight_layout()\n",
    "    fig.set_size_inches([6, 6])\n",
    "    fig.set_dpi(150)\n",
    "    fig.savefig(os.path.join(OUTPUTDIR, f\"{da.name}-mean-profile.png\"), bbox_inches='tight')"
   ]
  },
  {
   "cell_type": "code",
   "execution_count": null,
   "id": "valuable-genetics",
   "metadata": {},
   "outputs": [],
   "source": [
    "for var, units in R2_VARS.items():\n",
    "    plot_dQ_profile_cases(\n",
    "        diags[var].sel(domain='global_average', cases=['nudged_prescribed_sfc_rad_precip_RF', 'nudged_prescribed_sfc_rad_precip_NN']),\n",
    "        units\n",
    "    )"
   ]
  },
  {
   "cell_type": "code",
   "execution_count": null,
   "id": "fatal-attraction",
   "metadata": {},
   "outputs": [],
   "source": []
  }
 ],
 "metadata": {
  "kernelspec": {
   "display_name": "fv3net kernel",
   "language": "python",
   "name": "fv3net"
  },
  "language_info": {
   "codemirror_mode": {
    "name": "ipython",
    "version": 3
   },
   "file_extension": ".py",
   "mimetype": "text/x-python",
   "name": "python",
   "nbconvert_exporter": "python",
   "pygments_lexer": "ipython3",
   "version": "3.7.10"
  }
 },
 "nbformat": 4,
 "nbformat_minor": 5
}
