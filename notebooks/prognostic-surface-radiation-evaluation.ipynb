{
 "cells": [
  {
   "cell_type": "markdown",
   "id": "touched-violation",
   "metadata": {},
   "source": [
    "### Prognostic surface radiation evaluation\n",
    "\n",
    "Compare physics- and ML-derived surface radiative fluxes against high-res verif in several prognostic runs"
   ]
  },
  {
   "cell_type": "code",
   "execution_count": null,
   "id": "convenient-processor",
   "metadata": {},
   "outputs": [],
   "source": [
    "import intake\n",
    "import xarray as xr\n",
    "import numpy as np\n",
    "import fsspec\n",
    "import os\n",
    "import cftime\n",
    "from dask.diagnostics import ProgressBar\n",
    "from matplotlib import pyplot as plt\n",
    "import matplotlib\n",
    "from cycler import cycler\n",
    "matplotlib.rcParams['axes.prop_cycle'] = cycler(color=['r', 'b', 'k'])\n",
    "from vcm.catalog import catalog as CATALOG\n",
    "from vcm.fv3.metadata import standardize_fv3_diagnostics\n",
    "import fv3viz"
   ]
  },
  {
   "cell_type": "code",
   "execution_count": null,
   "id": "mexican-fireplace",
   "metadata": {},
   "outputs": [],
   "source": [
    "RUN_CONFIGS = [\n",
    "    {\n",
    "        'name': 'coarsened-fine-res',\n",
    "        'path': '40day_c48_gfsphysics_15min_may2020',\n",
    "        'verif': True\n",
    "    },\n",
    "    {\n",
    "        'name': 'baseline',\n",
    "        'path': 'gs://vcm-ml-experiments/2021-04-13/baseline-physics-run-20160805-start-rad-step-1800s',\n",
    "    },\n",
    "    {\n",
    "        'name': 'NN-ensemble-NN-rad',\n",
    "        'path': 'gs://vcm-ml-experiments/2021-05-11-nudge-to-c3072-corrected-winds/nn-ensemble-model/initial_conditions_runs/20160805.000000_with_RRTMG',\n",
    "    },\n",
    "    {\n",
    "        'name': 'NN-ensemble-RF-rad',\n",
    "        'path': 'gs://vcm-ml-experiments/2021-05-11-nudge-to-c3072-corrected-winds/nn-ensemble-model/initial_conditions_runs_rf_rad/20160805.000000',\n",
    "    },\n",
    "    {\n",
    "        'name': 'RF',\n",
    "        'path': 'gs://vcm-ml-experiments/2021-05-11-nudge-to-c3072-corrected-winds/rf/initial_conditions_runs/20160805.000000_with_RRTMG',\n",
    "    }\n",
    "]"
   ]
  },
  {
   "cell_type": "code",
   "execution_count": null,
   "id": "recovered-pride",
   "metadata": {},
   "outputs": [],
   "source": [
    "MASK = CATALOG['landseamask/c48'].to_dask()['land_sea_mask']\n",
    "GRID = CATALOG['grid/c48'].to_dask()\n",
    "AREA = GRID['area']\n",
    "SFC_FLUX_VARS = [\n",
    "    'DLWRFsfc_from_RRTMG',\n",
    "    'DLWRFsfc',\n",
    "    'DSWRFsfc_from_RRTMG',\n",
    "    'DSWRFsfc',\n",
    "    'NSWRFsfc_from_RRTMG',\n",
    "    'NSWRFsfc'\n",
    "]\n",
    "MAPPABLE_VAR_KWARGS = {\n",
    "    \"coord_x_center\": \"x\",\n",
    "    \"coord_y_center\": \"y\",\n",
    "    \"coord_x_outer\": \"x_interface\",\n",
    "    \"coord_y_outer\": \"y_interface\",\n",
    "    \"coord_vars\": {\n",
    "        \"lonb\": [\"y_interface\", \"x_interface\", \"tile\"],\n",
    "        \"latb\": [\"y_interface\", \"x_interface\", \"tile\"],\n",
    "        \"lon\": [\"y\", \"x\", \"tile\"],\n",
    "        \"lat\": [\"y\", \"x\", \"tile\"],\n",
    "    },\n",
    "}\n",
    "OUTDIR = 'figures'"
   ]
  },
  {
   "cell_type": "code",
   "execution_count": null,
   "id": "wound-wallpaper",
   "metadata": {},
   "outputs": [],
   "source": [
    "def weighted_average(da, weights, dims):\n",
    "    return (da*weights).sum(dim=dims)/weights.sum(dim=dims)\n",
    "\n",
    "def weighted_rms(da, weights, dims):\n",
    "    weighted_square = ((da**2)*weights).sum(dim=dims)/weights.sum(dim=dims)\n",
    "    return np.sqrt(weighted_square)"
   ]
  },
  {
   "cell_type": "code",
   "execution_count": null,
   "id": "consecutive-trust",
   "metadata": {},
   "outputs": [],
   "source": [
    "def time_mean(ds, area, mask, dims=['x', 'y', 'tile']):\n",
    "    time_mean = {}\n",
    "    land_area = area.where(mask == 1.0)\n",
    "    for var in ds:\n",
    "        time_mean[var + '_time_mean'] = ds[var].mean(dim='time', keep_attrs=True)\n",
    "        land_da = time_mean[var + '_time_mean'].where(mask == 1.0)\n",
    "        time_mean[var + '_time_land_mean'] = weighted_average(\n",
    "            land_da,\n",
    "            land_area,\n",
    "            dims=dims\n",
    "        )\n",
    "        time_mean[var + '_time_land_rms'] = weighted_rms(\n",
    "            land_da,\n",
    "            land_area,\n",
    "            dims=dims\n",
    "        )\n",
    "    return xr.Dataset(time_mean)"
   ]
  },
  {
   "cell_type": "code",
   "execution_count": null,
   "id": "religious-pharmaceutical",
   "metadata": {},
   "outputs": [],
   "source": [
    "def land_rms(ds, area, mask, dims=['x', 'y', 'tile']):\n",
    "    land_area = area.where(mask == 1.0)\n",
    "    land_rmse = {}\n",
    "    for var in ds:\n",
    "        da = ds[var].where(mask == 1.0)\n",
    "        land_rmse[var + '_rms'] = weighted_rms(da, land_area, dims).assign_attrs(**ds[var].attrs)\n",
    "        \n",
    "    return xr.Dataset(land_rmse)"
   ]
  },
  {
   "cell_type": "code",
   "execution_count": null,
   "id": "stainless-category",
   "metadata": {},
   "outputs": [],
   "source": [
    "def land_min_mean_max(ds, area, mask, dims=['x', 'y', 'tile']):\n",
    "    land_area = area.where(mask == 1.0)\n",
    "    land_min, land_mean, land_max = {}, {}, {}\n",
    "    for var in ds:\n",
    "        da = ds[var].where(mask == 1.0)\n",
    "        land_min[var] = da.min(dim=dims, keep_attrs=True)\n",
    "        land_mean[var] = weighted_average(da, land_area, dims).assign_attrs(**ds[var].attrs)\n",
    "        land_max[var] = da.max(dim=dims, keep_attrs=True)\n",
    "    datasets = []\n",
    "    for ds in [land_min, land_mean, land_max]:\n",
    "        datasets.append(xr.Dataset(ds))\n",
    "    return xr.concat(datasets, dim=xr.DataArray(['min', 'mean', 'max'], dims='metric', name='metric'))"
   ]
  },
  {
   "cell_type": "code",
   "execution_count": null,
   "id": "standing-biography",
   "metadata": {},
   "outputs": [],
   "source": [
    "class Fv3gfsRun:\n",
    "    \n",
    "    def __init__(self, name: str, path: str, verif: bool = False):\n",
    "        self.name = name\n",
    "        self._path = path\n",
    "        self.verif = verif\n",
    "        self.flux_data = self._open_fluxes()\n",
    "        self.land_flux_stats: Optional[xr.Dataset] = None\n",
    "        \n",
    "    def _open_fluxes(self):\n",
    "        if self.verif:\n",
    "            ds = CATALOG[self._path].to_dask()\n",
    "        else: \n",
    "            path = os.path.join(self._path, 'sfc_dt_atmos.zarr')\n",
    "            ds = intake.open_zarr(path, consolidated=True).to_dask()\n",
    "        ds = standardize_fv3_diagnostics(ds).resample({'time': '3H'}, label='right').nearest()\n",
    "        return self._derive_fluxes(ds)\n",
    "    \n",
    "    def add_biases(self, verif_ds: xr.Dataset, flux_varnames=SFC_FLUX_VARS):\n",
    "        if not self.verif:\n",
    "            biases = {}\n",
    "            for var in flux_varnames:\n",
    "                var_root = var.replace('_from_RRTMG', '')\n",
    "                if var in self.flux_data.data_vars:\n",
    "                    biases[var + '_bias'] = (self.flux_data[var] - verif_ds[var_root]).assign_attrs({\n",
    "                    'long_name': self.flux_data[var].attrs.get('long_name', var) + ' bias',\n",
    "                    'units': self.flux_data[var].attrs.get('units')\n",
    "                })\n",
    "                else:\n",
    "                    biases[var + '_bias'] = xr.zeros_like(verif_ds[var_root])\n",
    "            self.flux_data = xr.merge([self.flux_data, xr.Dataset(biases)])\n",
    "\n",
    "    def compute_land_stats(self, area: xr.DataArray=AREA, mask: xr.DataArray=MASK):\n",
    "        bias_vars = [var for var in self.flux_data.data_vars if '_bias' in var]\n",
    "        min_mean_max_vars = list(set(self.flux_data.data_vars) - set(bias_vars))\n",
    "        stats = xr.merge([\n",
    "            land_min_mean_max(self.flux_data[min_mean_max_vars], area, mask),\n",
    "            land_rms(self.flux_data[bias_vars], area, mask),\n",
    "            time_mean(self.flux_data[bias_vars], area, mask)\n",
    "        ], join='inner')\n",
    "        \n",
    "        with ProgressBar():\n",
    "            self.stats = stats.load()\n",
    "            \n",
    "    @staticmethod\n",
    "    def _derive_fluxes(ds, flux_varnames=SFC_FLUX_VARS):\n",
    "        ds['NSWRFsfc'] = (ds['DSWRFsfc'] - ds['USWRFsfc']).assign_attrs({\n",
    "            'long_name': 'net shortwave radiative flux at surface',\n",
    "            'units': 'W/m^2'\n",
    "        })\n",
    "        if 'DSWRFsfc_from_RRTMG' in ds.data_vars and 'USWRFsfc_from_RRTMG' in ds.data_vars:\n",
    "            ds['NSWRFsfc_from_RRTMG'] = (ds['DSWRFsfc_from_RRTMG'] - ds['USWRFsfc_from_RRTMG']).assign_attrs({\n",
    "                'long_name': 'net shortwave radiative flux at surface',\n",
    "                'units': 'W/m^2'\n",
    "            })\n",
    "        fluxes = {}\n",
    "        for var in flux_varnames:\n",
    "            if var in ds.data_vars:\n",
    "                fluxes[var] = ds[var]\n",
    "        \n",
    "        return xr.Dataset(fluxes)\n",
    "        \n",
    "        \n",
    "    "
   ]
  },
  {
   "cell_type": "code",
   "execution_count": null,
   "id": "suburban-tonight",
   "metadata": {},
   "outputs": [],
   "source": [
    "runs = []\n",
    "for run_config in RUN_CONFIGS:\n",
    "    print(run_config['name'])\n",
    "    fv3gfs_run = Fv3gfsRun(**run_config)\n",
    "    if fv3gfs_run.verif == True:\n",
    "        verif_ds = fv3gfs_run.flux_data\n",
    "    else:\n",
    "        fv3gfs_run.add_biases(verif_ds)\n",
    "    fv3gfs_run.compute_land_stats()\n",
    "    runs.append(fv3gfs_run)"
   ]
  },
  {
   "cell_type": "code",
   "execution_count": null,
   "id": "inappropriate-pollution",
   "metadata": {},
   "outputs": [],
   "source": [
    "def plot_min_mean_max(da, label, ax, alpha=0.25):\n",
    "    da.sel(metric='mean').plot(ax=ax, label=label)\n",
    "    ax.fill_between(da.time.values, da.sel(metric='min'), da.sel(metric='max'), alpha=alpha\n",
    "    )"
   ]
  },
  {
   "cell_type": "code",
   "execution_count": null,
   "id": "white-campaign",
   "metadata": {},
   "outputs": [],
   "source": [
    "def plot_var(run_list, varname):\n",
    "    fig, ax = plt.subplots(1, 1)\n",
    "    for fv3gfs_run in run_list:\n",
    "        label = fv3gfs_run.name\n",
    "        plot_min_mean_max(fv3gfs_run.stats[varname], label, ax)\n",
    "        RRTMG_var = varname + '_from_RRTMG'\n",
    "        if RRTMG_var in fv3gfs_run.stats.data_vars:\n",
    "            plot_min_mean_max(fv3gfs_run.stats[RRTMG_var], fv3gfs_run.name + ' (piggyback physics)', ax)\n",
    "    ax.set_xlim([cftime.DatetimeJulian(2016, 8, 5, 0, 0, 0), cftime.DatetimeJulian(2016, 9, 10, 0, 0, 0)])\n",
    "    ax.set_ylabel(fv3gfs_run.stats[varname].attrs.get('units', 'W/m^2'))\n",
    "    ax.set_title(varname)\n",
    "    ax.legend()\n",
    "    ax.grid()\n",
    "    fig.set_size_inches([8, 5])\n",
    "    fig.set_dpi(100)\n",
    "    fig.tight_layout()\n",
    "    fig.savefig(f\"{OUTDIR}/prognostic-{varname}-drift-{fv3gfs_run.name}.png\", facecolor='w', bbox_inches='tight')"
   ]
  },
  {
   "cell_type": "code",
   "execution_count": null,
   "id": "standing-minority",
   "metadata": {},
   "outputs": [],
   "source": [
    "plot_var([runs[ind] for ind in [0, 1]], 'DSWRFsfc')"
   ]
  },
  {
   "cell_type": "code",
   "execution_count": null,
   "id": "actual-actress",
   "metadata": {},
   "outputs": [],
   "source": [
    "plot_var([runs[ind] for ind in [0, 2]], 'DSWRFsfc')"
   ]
  },
  {
   "cell_type": "code",
   "execution_count": null,
   "id": "constitutional-federation",
   "metadata": {},
   "outputs": [],
   "source": [
    "plot_var([runs[ind] for ind in [0, 3]], 'DSWRFsfc')"
   ]
  },
  {
   "cell_type": "code",
   "execution_count": null,
   "id": "f1debd7e-23e1-4f4e-a80b-2e28c8faab82",
   "metadata": {},
   "outputs": [],
   "source": [
    "plot_var([runs[ind] for ind in [0, 4]], 'DSWRFsfc')"
   ]
  },
  {
   "cell_type": "code",
   "execution_count": null,
   "id": "twelve-oxygen",
   "metadata": {},
   "outputs": [],
   "source": [
    "def rms_plot(run_list, varname):\n",
    "    fig, ax = plt.subplots(1, 1)\n",
    "    ax.set_prop_cycle(cycler(color=['r', 'r', 'b', 'b'], ls=['-', '--', '-', '--']))\n",
    "    for fv3gfs_run in run_list:\n",
    "        ax.plot(fv3gfs_run.stats.time, fv3gfs_run.stats[var + '_bias_rms'], label=fv3gfs_run.name)\n",
    "        ax.plot(fv3gfs_run.stats.time, fv3gfs_run.stats[var + '_from_RRTMG_bias_rms'], label=fv3gfs_run.name + ' (piggyback physics)', lw=1)\n",
    "    ax.set_xlim([cftime.DatetimeJulian(2016, 8, 5, 0, 0, 0), cftime.DatetimeJulian(2016, 9, 10, 0, 0, 0)])\n",
    "    ax.set_ylabel(fv3gfs_run.stats[var + '_bias_rms'].attrs.get('units'))\n",
    "    ax.set_title(f'RMSE of {varname}')\n",
    "    ax.legend()\n",
    "    ax.grid()\n",
    "    fig.set_size_inches([8, 5])\n",
    "    fig.set_dpi(100)\n",
    "    fig.tight_layout()\n",
    "    fig.savefig(f\"{OUTDIR}/prognostic-{varname}-rms-{run_list[0].name}-{run_list[1].name}.png\", facecolor='w', bbox_inches='tight')"
   ]
  },
  {
   "cell_type": "code",
   "execution_count": null,
   "id": "heated-district",
   "metadata": {},
   "outputs": [],
   "source": [
    "# for var in ['DLWRFsfc', 'DSWRFsfc', 'NSWRFsfc']:\n",
    "#     rms_plot([runs[ind] for ind in [1, 3]], var)"
   ]
  },
  {
   "cell_type": "code",
   "execution_count": null,
   "id": "received-blair",
   "metadata": {},
   "outputs": [],
   "source": [
    "# for var in ['DLWRFsfc', 'DSWRFsfc', 'NSWRFsfc']:\n",
    "#     rms_plot([runs[ind] for ind in [2, 3]], var)"
   ]
  },
  {
   "cell_type": "code",
   "execution_count": null,
   "id": "81f9358a-d15a-4e96-b65e-335ee2710039",
   "metadata": {},
   "outputs": [],
   "source": [
    "# for var in ['DLWRFsfc', 'DSWRFsfc', 'NSWRFsfc']:\n",
    "#     rms_plot([runs[ind] for ind in [3, 4]], var)"
   ]
  },
  {
   "cell_type": "code",
   "execution_count": null,
   "id": "gothic-hamburg",
   "metadata": {},
   "outputs": [],
   "source": [
    "def time_mean_plot(run_list, varname, grid=GRID):\n",
    "    varnames = [varname + '_bias_time_mean', varname + '_from_RRTMG_bias_time_mean']\n",
    "    dataarrays = []\n",
    "    mean_dataarrays = []\n",
    "    rms_dataarrays = []\n",
    "    for fv3gfs_run in run_list:\n",
    "        run_da = (\n",
    "            fv3gfs_run\n",
    "            .stats[varnames]\n",
    "            .to_array(name=varname)\n",
    "            .assign_coords({'variable': ['actual', 'piggyback physics']})\n",
    "            .assign_attrs(**fv3gfs_run.stats[varname + '_bias_time_mean'].attrs)\n",
    "        )\n",
    "        mean_varnames = [varname + '_bias_time_land_mean', varname + '_from_RRTMG_bias_time_land_mean']\n",
    "        mean_da = (\n",
    "            fv3gfs_run\n",
    "            .stats[mean_varnames]\n",
    "            .to_array(name=varname)\n",
    "            .assign_coords({'variable': ['actual', 'piggyback physics']})\n",
    "        )\n",
    "        rms_varnames = [varname + '_bias_time_land_rms', varname + '_from_RRTMG_bias_time_land_rms']\n",
    "        rms_da = (\n",
    "            fv3gfs_run\n",
    "            .stats[rms_varnames]\n",
    "            .to_array(name=varname)\n",
    "            .assign_coords({'variable': ['actual', 'piggyback physics']})\n",
    "        )\n",
    "        dataarrays.append(run_da)\n",
    "        mean_dataarrays.append(mean_da)\n",
    "        rms_dataarrays.append(rms_da)\n",
    "    da = xr.concat(dataarrays, dim=xr.DataArray([run.name for run in run_list], dims='run', name='run'))\n",
    "    mean_da = xr.concat(mean_dataarrays, dim=xr.DataArray([run.name for run in run_list], dims='run', name='run'))\n",
    "    rms_da = xr.concat(rms_dataarrays, dim=xr.DataArray([run.name for run in run_list], dims='run', name='run'))\n",
    "    _, _, _, _, fg = fv3viz.plot_cube(\n",
    "        fv3viz.mappable_var(xr.merge([da, grid]), varname, **MAPPABLE_VAR_KWARGS),\n",
    "        col='variable',\n",
    "        row='run',\n",
    "        vmax=75\n",
    "    )\n",
    "    fg.set_titles('{value}')\n",
    "    for i, row in enumerate(fg.axes):\n",
    "        for j, ax in enumerate(row):\n",
    "            name_dict = fg.name_dicts[i,j]\n",
    "            mean = mean_da.sel(name_dict).item()\n",
    "            rms = rms_da.sel(name_dict).item()\n",
    "            ax.set_title(f\"{name_dict['variable']}\\nland mean: {mean:4.1f}, rms: {rms:4.1f}\")\n",
    "    fg.fig.set_size_inches([12, 13])\n",
    "    fg.fig.set_dpi(100)\n",
    "    fg.fig.savefig(f\"{OUTDIR}/prognostic-{varname}-time-mean.png\", facecolor='w', bbox_inches='tight')"
   ]
  },
  {
   "cell_type": "code",
   "execution_count": null,
   "id": "anticipated-laundry",
   "metadata": {},
   "outputs": [],
   "source": [
    "for var in ['DSWRFsfc', 'DLWRFsfc']:\n",
    "    time_mean_plot(runs[1:], var)"
   ]
  },
  {
   "cell_type": "code",
   "execution_count": null,
   "id": "affected-speech",
   "metadata": {},
   "outputs": [],
   "source": []
  }
 ],
 "metadata": {
  "kernelspec": {
   "display_name": "fv3net kernel",
   "language": "python",
   "name": "fv3net"
  },
  "language_info": {
   "codemirror_mode": {
    "name": "ipython",
    "version": 3
   },
   "file_extension": ".py",
   "mimetype": "text/x-python",
   "name": "python",
   "nbconvert_exporter": "python",
   "pygments_lexer": "ipython3",
   "version": "3.7.10"
  }
 },
 "nbformat": 4,
 "nbformat_minor": 5
}
