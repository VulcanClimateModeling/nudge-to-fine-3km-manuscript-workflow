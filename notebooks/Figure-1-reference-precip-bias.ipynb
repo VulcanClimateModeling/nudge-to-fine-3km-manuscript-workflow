{
 "cells": [
  {
   "cell_type": "code",
   "execution_count": null,
   "id": "a7acf66a-3fb8-436c-903e-2c47e00039e4",
   "metadata": {},
   "outputs": [],
   "source": [
    "import cartopy.crs as ccrs\n",
    "import fsspec\n",
    "import matplotlib\n",
    "import matplotlib.pyplot as plt\n",
    "import numpy as np\n",
    "import pandas as pd\n",
    "import xarray as xr\n",
    "\n",
    "import vcm\n",
    "\n",
    "from dask.diagnostics import ProgressBar\n",
    "\n",
    "matplotlib.rcParams.update({'font.size': 8})"
   ]
  },
  {
   "cell_type": "markdown",
   "id": "136a5ea9-bb25-4bab-ade2-258d8042625f",
   "metadata": {},
   "source": [
    "## Process the observations"
   ]
  },
  {
   "cell_type": "code",
   "execution_count": null,
   "id": "f1d77b93-a4a0-4236-b0a6-9282b5fd4255",
   "metadata": {},
   "outputs": [],
   "source": [
    "GPCP_URL = \"gs://vcm-ml-raw/2020-11-10-GPCP-2015-2016/gpcp_v01r03_daily.zarr\"\n",
    "gpcp = xr.open_zarr(fsspec.get_mapper(GPCP_URL), consolidated=True)\n",
    "gpcp[\"latitude\"] = gpcp.lat_bounds.mean(\"nv\").isel(time=0).drop(\"time\")\n",
    "gpcp[\"longitude\"] = gpcp.lon_bounds.mean(\"nv\").isel(time=0).drop(\"time\")\n",
    "gpcp_precip = gpcp.precip.sel(time=slice(\"2016-08-02\", \"2016-09-09\")).mean(\"time\")"
   ]
  },
  {
   "cell_type": "markdown",
   "id": "a720a0fe-b02a-4cd3-a86f-3b107dc4216d",
   "metadata": {},
   "source": [
    "## Process the X-SHiELD data"
   ]
  },
  {
   "cell_type": "code",
   "execution_count": null,
   "id": "9080ea25-30de-420f-b87a-73504cf4818e",
   "metadata": {},
   "outputs": [],
   "source": [
    "XSHIELD_URL = \"gs://vcm-ml-raw/2020-05-27-40-day-X-SHiELD-simulation-regridded-diagnostics/gfsphysics_15min_coarse_1_deg.zarr\"\n",
    "xshield = xr.open_zarr(fsspec.get_mapper(XSHIELD_URL), consolidated=True).rename({\"grid_xt_coarse\": \"longitude\", \"grid_yt_coarse\": \"latitude\"})\n",
    "xshield[\"time\"] = xshield.time.dt.round(\"15T\")\n",
    "xshield_precip = 86400 * xshield.PRATEsfc_coarse.rename(\"PRATEsfc\").sel(time=slice(\"2016-08-02\", \"2016-09-09\")).mean(\"time\")"
   ]
  },
  {
   "cell_type": "markdown",
   "id": "5876260d-ce32-4503-9959-d1660abd6740",
   "metadata": {},
   "source": [
    "## Process the FV3GFS data\n",
    "\n",
    "This comes from a run configured with the following YAML: gs://vcm-ml-data/2020-01-29-baseline-FV3GFS-runs/nudged-40day-2016-C48-npz79-fv3atm/config/fv3config.yml"
   ]
  },
  {
   "cell_type": "code",
   "execution_count": null,
   "id": "81003fb1-dd87-441a-9727-56ce2940d8e2",
   "metadata": {},
   "outputs": [],
   "source": [
    "FV3GFS_URL = \"gs://vcm-ml-experiments/2021-07-02-reference-precip-bias/PRATEsfc_1_deg.nc\"\n",
    "fs, *_ = fsspec.get_fs_token_paths(FV3GFS_URL)\n",
    "fv3gfs = vcm.open_remote_nc(fs, FV3GFS_URL).rename({\"grid_xt\": \"longitude\", \"grid_yt\": \"latitude\"})\n",
    "fv3gfs_precip = 86400 * fv3gfs.PRATEsfc.sel(time=slice(\"2016-08-02\", \"2016-09-09\")).mean(\"time\")\n",
    "\n",
    "# longitude and latitude coordinates differ from previous datasets by floating point error;\n",
    "# replace them here so that they align.\n",
    "fv3gfs_precip[\"longitude\"] = xshield_precip.longitude\n",
    "fv3gfs_precip[\"latitude\"] = xshield_precip.latitude"
   ]
  },
  {
   "cell_type": "markdown",
   "id": "bad91d1a-4f0a-4475-9e1b-d06570318024",
   "metadata": {},
   "source": [
    "## Combine the data"
   ]
  },
  {
   "cell_type": "code",
   "execution_count": null,
   "id": "79d6c854-1df6-4454-adf1-9a3b8a439b8b",
   "metadata": {},
   "outputs": [],
   "source": [
    "precip = xr.concat([gpcp_precip, xshield_precip, fv3gfs_precip], dim=pd.Index([\"GPCP\", \"3 km X-SHiELD\", \"200 km FV3GFS\"], name=\"source\"))"
   ]
  },
  {
   "cell_type": "markdown",
   "id": "456a7d25-8bfe-41ad-9197-9dcb45cb308e",
   "metadata": {},
   "source": [
    "## Load the land mask"
   ]
  },
  {
   "cell_type": "code",
   "execution_count": null,
   "id": "81b0aaae-c962-46a1-926f-e20d0f816fab",
   "metadata": {},
   "outputs": [],
   "source": [
    "LAND_MASK_URL = \"gs://vcm-ml-experiments/2021-07-02-reference-precip-bias/land-mask.nc\"\n",
    "fs, *_ = fsspec.get_fs_token_paths(LAND_MASK_URL)\n",
    "land_mask = vcm.open_remote_nc(fs, LAND_MASK_URL).region.rename({\"lon\": \"longitude\", \"lat\": \"latitude\"})"
   ]
  },
  {
   "cell_type": "markdown",
   "id": "b6ec1f2d-7807-4414-9232-d47ed9eecb7c",
   "metadata": {},
   "source": [
    "## Compute and plot the bias"
   ]
  },
  {
   "cell_type": "code",
   "execution_count": null,
   "id": "d997002d-8958-4eef-8402-6a1dc715d567",
   "metadata": {},
   "outputs": [],
   "source": [
    "with ProgressBar():\n",
    "    bias = (precip - precip.sel(source=\"GPCP\")).compute()"
   ]
  },
  {
   "cell_type": "code",
   "execution_count": null,
   "id": "cbfe432d-1c96-467e-a8f6-ef6bc2f7c80b",
   "metadata": {},
   "outputs": [],
   "source": [
    "weights = np.cos(np.deg2rad(bias.latitude)).where(land_mask).fillna(0.0)"
   ]
  },
  {
   "cell_type": "code",
   "execution_count": null,
   "id": "d118c95c-3377-4814-9785-9a725fb627c1",
   "metadata": {},
   "outputs": [],
   "source": [
    "land_mean_bias = bias.weighted(weights).mean([\"latitude\", \"longitude\"])\n",
    "land_rmse = np.sqrt((bias ** 2).weighted(weights).mean([\"latitude\", \"longitude\"]))"
   ]
  },
  {
   "cell_type": "code",
   "execution_count": null,
   "id": "22372dbf-043f-4460-b180-53b09ae78024",
   "metadata": {},
   "outputs": [],
   "source": [
    "vmin, vmax = -7, 7\n",
    "cmap = \"RdBu_r\"\n",
    "\n",
    "fig, axes = plt.subplots(1, 2, subplot_kw={\"projection\": ccrs.Robinson()})\n",
    "fig.set_size_inches(9, 3.5)\n",
    "\n",
    "for ax, source in zip(axes, [\"200 km FV3GFS\", \"3 km X-SHiELD\"]):\n",
    "    c = ax.pcolormesh(\n",
    "        bias.longitude,\n",
    "        bias.latitude,\n",
    "        bias.sel(source=source).where(land_mask),\n",
    "        transform=ccrs.PlateCarree(),\n",
    "        vmin=vmin,\n",
    "        vmax=vmax,\n",
    "        cmap=cmap\n",
    "    )\n",
    "    ax.coastlines()\n",
    "    ax.background_patch.set_facecolor(\"#808080\")\n",
    "    \n",
    "    b = land_mean_bias.sel(source=source).item()\n",
    "    r = land_rmse.sel(source=source).item()\n",
    "    title = f\"{source}\\nBias = {b:0.2f} mm/day\\nRMSE = {r:0.2f} mm/day\"\n",
    "    ax.set_title(title)\n",
    "\n",
    "label = \"Mean precipitation difference over land, simulated minus observed [mm/day]\"\n",
    "fig.colorbar(c, ax=axes.ravel().tolist(), orientation=\"horizontal\", label=label, aspect=50)\n",
    "fig.savefig(\"figures/Figure_1_reference_precip_bias.eps\", bbox_inches=\"tight\", fig_size=[7.6, 3])"
   ]
  },
  {
   "cell_type": "code",
   "execution_count": null,
   "id": "453867bd-db3b-4cdc-a81e-626b034e20f2",
   "metadata": {},
   "outputs": [],
   "source": [
    "# this converts matplotlib eps files to a more manageable size\n",
    "\n",
    "!epstopdf figures/Figure_1_reference_precip_bias.eps\n",
    "!pdftops -eps figures/Figure_1_reference_precip_bias.pdf\n",
    "!rm figures/Figure_1_reference_precip_bias.pdf"
   ]
  },
  {
   "cell_type": "code",
   "execution_count": null,
   "id": "686bceac-679b-48cd-bf48-0233f9b090a8",
   "metadata": {},
   "outputs": [],
   "source": []
  }
 ],
 "metadata": {
  "kernelspec": {
   "display_name": "Python 3",
   "language": "python",
   "name": "python3"
  },
  "language_info": {
   "codemirror_mode": {
    "name": "ipython",
    "version": 3
   },
   "file_extension": ".py",
   "mimetype": "text/x-python",
   "name": "python",
   "nbconvert_exporter": "python",
   "pygments_lexer": "ipython3",
   "version": "3.7.10"
  }
 },
 "nbformat": 4,
 "nbformat_minor": 5
}
