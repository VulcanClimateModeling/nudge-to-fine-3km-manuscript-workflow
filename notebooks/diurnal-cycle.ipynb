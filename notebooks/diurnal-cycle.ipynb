{
 "cells": [
  {
   "cell_type": "code",
   "execution_count": null,
   "metadata": {},
   "outputs": [],
   "source": [
    "%matplotlib inline\n",
    "\n",
    "import matplotlib.pyplot as plt\n",
    "\n",
    "import cftime\n",
    "import intake\n",
    "import fsspec\n",
    "import numpy as np\n",
    "import pandas as pd\n",
    "import seaborn as sb\n",
    "import xarray as xr\n",
    "\n",
    "import fv3viz as viz\n",
    "from vcm.catalog import catalog\n",
    "\n",
    "def weighted_average(array, weights, axis=None):\n",
    "    return np.nansum(array * weights, axis=axis) / np.nansum(weights, axis=axis)"
   ]
  },
  {
   "cell_type": "code",
   "execution_count": null,
   "metadata": {},
   "outputs": [],
   "source": [
    "with fsspec.open(\"gs://vcm-ml-public/argo/prog-report-nudge-to-3km-nn-rf-comparison/NN_ensemble/diags.nc\", \"rb\") as f:\n",
    "    diags_nn = xr.open_dataset(f).load()\n",
    "    \n",
    "with fsspec.open(\"gs://vcm-ml-public/argo/prog-report-nudge-to-3km-nn-rf-comparison/random_forest/diags.nc\", \"rb\") as f:\n",
    "    diags_rf = xr.open_dataset(f).load()\n",
    "    \n",
    "with fsspec.open(\"gs://vcm-ml-public/argo/prog-report-nudge-to-3km-nn-rf-comparison/baseline/diags.nc\", \"rb\") as f:\n",
    "    diags_baseline = xr.open_dataset(f).load()\n",
    "    \n",
    "    "
   ]
  },
  {
   "cell_type": "code",
   "execution_count": null,
   "metadata": {},
   "outputs": [],
   "source": [
    "var = 'total_precip_to_surface_diurnal_land'\n",
    "\n",
    "labels = [\"baseline\", \"neural net ensemble\", \"random forest\"]\n",
    "datasets = [diags_baseline, diags_nn, diags_rf]\n",
    "\n",
    "verif_land_precip_diurnal = diags_baseline[var] - diags_baseline['diurn_bias_total-precipitation_diurnal_land']\n",
    "\n",
    "fig = plt.figure(figsize=(8,7))\n",
    "\n",
    "verif_land_precip_diurnal.plot(label=\"fine resolution\", linestyle=\"--\", color=\"red\", linewidth=3)\n",
    "for label, ds in zip(labels, datasets):\n",
    "    ds[var].plot(label=label, linewidth=2)\n",
    "\n",
    "plt.legend(fontsize=14)\n",
    "plt.grid(True, axis=\"both\", alpha=0.4)\n",
    "plt.xlim(0, 23)\n",
    "plt.ylim(1.3, 4.3)\n",
    "plt.xlabel(\"local time [hr]\", fontsize=14)\n",
    "plt.ylabel(\"[mm / day]\", fontsize=14)\n",
    "plt.xticks(fontsize=14)\n",
    "plt.yticks(fontsize=14)\n",
    "\n",
    "plt.title(\"Diurnal cycle of precipitation over land\", fontsize=18)\n",
    "fig.savefig(\"figures/diurnal_cycle_land_precip.png\")"
   ]
  },
  {
   "cell_type": "code",
   "execution_count": null,
   "metadata": {},
   "outputs": [],
   "source": []
  }
 ],
 "metadata": {
  "kernelspec": {
   "display_name": "fv3net kernel",
   "language": "python",
   "name": "fv3net"
  },
  "language_info": {
   "codemirror_mode": {
    "name": "ipython",
    "version": 3
   },
   "file_extension": ".py",
   "mimetype": "text/x-python",
   "name": "python",
   "nbconvert_exporter": "python",
   "pygments_lexer": "ipython3",
   "version": "3.7.10"
  }
 },
 "nbformat": 4,
 "nbformat_minor": 4
}
