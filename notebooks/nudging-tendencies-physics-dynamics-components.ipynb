{
 "cells": [
  {
   "cell_type": "markdown",
   "metadata": {},
   "source": [
    "### nudging tendency of moisture, physics and dynamics components\n",
    "\n",
    "Compute and plot physics and dynamics contribution to < dQ2 >, averaged over the last 36 days of the nudged training run\n",
    "\n",
    "Adapted from https://github.com/VulcanClimateModeling/explore/blob/master/spencerc/2021-02-15-n2f-vs-hybrid-dQ2/2021-04-06-dQ1-dQ2-comparison.ipynb\n",
    "\n",
    "<!-- Depends on this branch in fv3net: https://github.com/VulcanClimateModeling/fv3net/tree/update-hybrid, only for the update to the `open_fine_resolution_nudging_hybrid` function.  Averaging period: 20160803.014500 to 20160909.224500 -->"
   ]
  },
  {
   "cell_type": "code",
   "execution_count": null,
   "metadata": {},
   "outputs": [],
   "source": [
    "import os\n",
    "import intake\n",
    "import cartopy.crs as ccrs\n",
    "import cftime\n",
    "import matplotlib.pyplot as plt\n",
    "import matplotlib\n",
    "matplotlib.rcParams.update(**{\n",
    "    'mathtext.fontset': 'stix'\n",
    "})\n",
    "import numpy as np\n",
    "from datetime import timedelta\n",
    "import xarray as xr\n",
    "import fv3viz\n",
    "from vcm.fv3 import metadata\n",
    "from vcm.catalog import catalog as CATALOG\n",
    "from loaders.mappers._fine_resolution_budget import FineResolutionSources\n",
    "from loaders.mappers import XarrayMapper\n",
    "from dask.diagnostics import ProgressBar"
   ]
  },
  {
   "cell_type": "code",
   "execution_count": null,
   "metadata": {},
   "outputs": [],
   "source": [
    "GRID = metadata.standardize_fv3_diagnostics(CATALOG[\"grid/c48\"].to_dask())\n",
    "N2F_URL = \"gs://vcm-ml-experiments/2021-04-13-n2f-c3072/3-hrly-ave-rad-precip-setting-30-min-rad-timestep-shifted-start-tke-edmf\"\n",
    "FINE_RES_URL = 'gs://vcm-ml-experiments/default/2021-04-27/2020-05-27-40-day-X-SHiELD-simulation/fine-res-budget.zarr'\n",
    "VERIF_ENTRY = \"40day_c48_atmos_8xdaily_may2020\"\n",
    "SECONDS_PER_DAY=86400\n",
    "OUTDIR = 'figures'"
   ]
  },
  {
   "cell_type": "code",
   "execution_count": null,
   "metadata": {},
   "outputs": [],
   "source": [
    "# load nudge-to-fine run dataset\n",
    "nudging_tendencies = metadata.standardize_fv3_diagnostics(\n",
    "    intake.open_zarr(os.path.join(N2F_URL, 'nudging_tendencies.zarr'), consolidated=True).to_dask()\n",
    ")\n",
    "physics_tendencies = metadata.standardize_fv3_diagnostics(\n",
    "    intake.open_zarr(os.path.join(N2F_URL, 'physics_tendencies.zarr'), consolidated=True).to_dask()\n",
    ")\n",
    "dycore = metadata.standardize_fv3_diagnostics(\n",
    "    intake.open_zarr(os.path.join(N2F_URL, 'atmos_dt_atmos.zarr'), consolidated=True).to_dask()\n",
    ")\n",
    "state = metadata.standardize_fv3_diagnostics(\n",
    "        intake.open_zarr(os.path.join(N2F_URL, 'state_after_timestep.zarr'), consolidated=True).to_dask(),\n",
    ")\n",
    "nudged_run = xr.merge([nudging_tendencies, physics_tendencies, dycore, state], join='inner')"
   ]
  },
  {
   "cell_type": "code",
   "execution_count": null,
   "metadata": {},
   "outputs": [],
   "source": [
    "# subset time to exclude first four spinup days of the simulation\n",
    "nudged_run = nudged_run.sel(time=nudged_run.time.loc[nudged_run.time > cftime.DatetimeJulian(2016, 8, 5, 0, 0, 0, 0)])"
   ]
  },
  {
   "cell_type": "code",
   "execution_count": null,
   "metadata": {},
   "outputs": [],
   "source": [
    "# downsample 15-minute data to 3-hourly nudging tendency output using nearest-neighbor approach\n",
    "# could time-average but that is ~12x slower with probably little accuracy change\n",
    "def time_downsample(ds, freq='3H'):\n",
    "    ds = ds.resample({'time': freq}, base=1, loffset=timedelta(minutes=90)).nearest()\n",
    "    return ds"
   ]
  },
  {
   "cell_type": "code",
   "execution_count": null,
   "metadata": {},
   "outputs": [],
   "source": [
    "# load fine-res apparent sources using mapper approach and fine-res zarr\n",
    "fine_res_ds = time_downsample(intake.open_zarr(FINE_RES_URL).to_dask())\n",
    "fine_res_ds = fine_res_ds.sel(time=fine_res_ds.time.loc[fine_res_ds.time > (nudged_run.time[0] - timedelta(minutes=90))])\n",
    "fine_res_mapper = XarrayMapper(fine_res_ds)\n",
    "RENAME = {\n",
    "    'pfull': 'z',\n",
    "    'dQ1': 'Q1',\n",
    "    'dQ2': 'Q2',\n",
    "    'omega': 'omega_fine_rs'\n",
    "}\n",
    "DIM_ORDER = (\"tile\", \"z\", \"grid_yt\", \"grid_xt\")\n",
    "fine_res_sources_mapper = FineResolutionSources(fine_res_mapper, rename_vars=RENAME, dim_order=DIM_ORDER)\n",
    "Q2 = xr.concat(\n",
    "    [fine_res_sources_mapper[key]['Q2'] for key in fine_res_sources_mapper.keys()],\n",
    "    dim='time'\n",
    ").assign_coords({'time': nudged_run.time}).rename({'grid_yt': 'y', 'grid_xt': 'x'})"
   ]
  },
  {
   "cell_type": "code",
   "execution_count": null,
   "metadata": {},
   "outputs": [],
   "source": [
    "# compute components of moisture nudging tendency\n",
    "dQ2p = (Q2 - nudged_run.tendency_of_specific_humidity_due_to_fv3_physics).assign_attrs({'long_name': 'specific humidity nudging due to physics differences', 'units': 'kg/kg/s'})\n",
    "dQ2d = (nudged_run.specific_humidity_tendency_due_to_nudging - dQ2p).assign_attrs({'long_name': 'specific humidity nudging due to dynamics differences', 'units': 'kg/kg/s'})\n",
    "tendencies = {\n",
    "    'dQ2': nudged_run.specific_humidity_tendency_due_to_nudging,\n",
    "    'dQ2p': dQ2p,\n",
    "    'dQ2d': dQ2d\n",
    "}"
   ]
  },
  {
   "cell_type": "code",
   "execution_count": null,
   "metadata": {},
   "outputs": [],
   "source": [
    "def vertical_integral_of_moisture_tendency(da, delp):\n",
    "    return (SECONDS_PER_DAY*((da * delp).sum(\"z\") / 9.81)).assign_attrs(\n",
    "        {\n",
    "            'long_name': 'column integral of ' + da.attrs.get('long_name', ''),\n",
    "            'units': 'mm/day'\n",
    "        }\n",
    "    )"
   ]
  },
  {
   "cell_type": "code",
   "execution_count": null,
   "metadata": {},
   "outputs": [],
   "source": [
    "# column-integrate and time-average\n",
    "column_integrated_ds = {}\n",
    "for var in tendencies:\n",
    "    column_integrated_ds[f\"column_integrated_{var}\"] = vertical_integral_of_moisture_tendency(\n",
    "        tendencies[var], nudged_run['pressure_thickness_of_atmospheric_layer']\n",
    "    )\n",
    "    \n",
    "with ProgressBar():\n",
    "    column_integrated_ds = xr.Dataset(column_integrated_ds).mean(dim='time').load()"
   ]
  },
  {
   "cell_type": "code",
   "execution_count": null,
   "metadata": {},
   "outputs": [],
   "source": [
    "# get vertical wind difference between coarse and fine\n",
    "vertical_wind_nudged_run = nudged_run.w500\n",
    "vertical_wind_fine_res = metadata.standardize_fv3_diagnostics(CATALOG[VERIF_ENTRY].to_dask()).w500.interp({'time': nudged_run.time})\n",
    "vertical_wind_difference = (100*(vertical_wind_fine_res - vertical_wind_nudged_run)).assign_attrs({'long_name': 'vertical wind difference, fine - coarse', 'units': 'cm/s'}).rename('vertical_wind_difference')\n",
    "\n",
    "with ProgressBar():\n",
    "    vertical_wind_difference = vertical_wind_difference.mean(\"time\", keep_attrs=True).compute()"
   ]
  },
  {
   "cell_type": "code",
   "execution_count": null,
   "metadata": {},
   "outputs": [],
   "source": [
    "MAPPABLE_VAR_KWARGS = {\n",
    "    \"coord_x_center\": \"x\",\n",
    "    \"coord_y_center\": \"y\",\n",
    "    \"coord_x_outer\": \"x_interface\",\n",
    "    \"coord_y_outer\": \"y_interface\",\n",
    "    \"coord_vars\": {\n",
    "        \"lonb\": [\"y_interface\", \"x_interface\", \"tile\"],\n",
    "        \"latb\": [\"y_interface\", \"x_interface\", \"tile\"],\n",
    "        \"lon\": [\"y\", \"x\", \"tile\"],\n",
    "        \"lat\": [\"y\", \"x\", \"tile\"],\n",
    "    },\n",
    "}"
   ]
  },
  {
   "cell_type": "code",
   "execution_count": null,
   "metadata": {},
   "outputs": [],
   "source": [
    "fig, axes = plt.subplots(2, 2, subplot_kw=dict(projection=ccrs.Robinson()))\n",
    "axes = axes.flatten()\n",
    "ax0 = axes[0]\n",
    "dQ2 = fv3viz.mappable_var(xr.merge([column_integrated_ds.column_integrated_dQ2, GRID]), 'column_integrated_dQ2', **MAPPABLE_VAR_KWARGS)\n",
    "h0 = fv3viz.plot_cube_axes(\n",
    "    dQ2.column_integrated_dQ2.values,\n",
    "    dQ2.lat.values,\n",
    "    dQ2.lon.values,\n",
    "    dQ2.latb.values,\n",
    "    dQ2.lonb.values,\n",
    "    \"pcolormesh\",\n",
    "    vmin=-4,\n",
    "    vmax=4,\n",
    "    ax=ax0,\n",
    "    cmap='RdBu_r'\n",
    ")\n",
    "ax0.set_title(\n",
    "    r\"a) $\\langle \\Delta Q_q \\rangle $\" + f\", mean: {column_integrated_ds.column_integrated_dQ2.weighted(GRID['area']).mean(['x', 'y', 'tile']).compute().item():1.2f}\"\n",
    ")\n",
    "ax0.coastlines()\n",
    "plt.colorbar(h0, ax=ax0, label=\"mm/day\")\n",
    "ax1 = axes[1]\n",
    "dQ2d = fv3viz.mappable_var(xr.merge([column_integrated_ds.column_integrated_dQ2d, GRID]), 'column_integrated_dQ2d', **MAPPABLE_VAR_KWARGS)\n",
    "h1 = fv3viz.plot_cube_axes(\n",
    "    dQ2d.column_integrated_dQ2d.values,\n",
    "    dQ2d.lat.values,\n",
    "    dQ2d.lon.values,\n",
    "    dQ2d.latb.values,\n",
    "    dQ2d.lonb.values,\n",
    "    \"pcolormesh\",\n",
    "    vmin=-4,\n",
    "    vmax=4,\n",
    "    ax=ax1,\n",
    "    cmap='RdBu_r'\n",
    ")\n",
    "ax1.set_title(\n",
    "    r\"b) $\\langle \\Delta Q_q^d \\rangle$\" + f\", mean: {column_integrated_ds.column_integrated_dQ2d.weighted(GRID['area']).mean(['x', 'y', 'tile']).compute().item():1.2f}\"\n",
    ")\n",
    "ax1.coastlines()\n",
    "plt.colorbar(h1, ax=ax1, label=\"mm/day\")\n",
    "ax2 = axes[2]\n",
    "dQ2p = fv3viz.mappable_var(xr.merge([column_integrated_ds.column_integrated_dQ2p, GRID]), 'column_integrated_dQ2p', **MAPPABLE_VAR_KWARGS)\n",
    "h2 = fv3viz.plot_cube_axes(\n",
    "    dQ2p.column_integrated_dQ2p.values,\n",
    "    dQ2p.lat.values,\n",
    "    dQ2p.lon.values,\n",
    "    dQ2p.latb.values,\n",
    "    dQ2p.lonb.values,\n",
    "    \"pcolormesh\",\n",
    "    vmin=-4,\n",
    "    vmax=4,\n",
    "    ax=ax2,\n",
    "    cmap='RdBu_r'\n",
    ")\n",
    "ax2.set_title(\n",
    "    r\"c) $\\langle \\Delta Q_q^p \\rangle$\" + f\", mean: {column_integrated_ds.column_integrated_dQ2p.weighted(GRID['area']).mean(['x', 'y', 'tile']).compute().item():1.2f}\"\n",
    ")\n",
    "ax2.coastlines()\n",
    "plt.colorbar(h2, ax=ax2, label=\"mm/day\")\n",
    "ax3 = axes[3]\n",
    "dW = fv3viz.mappable_var(xr.merge([vertical_wind_difference, GRID]), 'vertical_wind_difference', **MAPPABLE_VAR_KWARGS)\n",
    "h3 = fv3viz.plot_cube_axes(\n",
    "    dW.vertical_wind_difference.values,\n",
    "    dW.lat.values,\n",
    "    dW.lon.values,\n",
    "    dW.latb.values,\n",
    "    dW.lonb.values,\n",
    "    \"pcolormesh\",\n",
    "    vmin=-1,\n",
    "    vmax=1,\n",
    "    ax=ax3,\n",
    "    cmap='RdBu_r'\n",
    ")\n",
    "ax3.set_title(\n",
    "    f\"d) w500 difference, mean: {dW.vertical_wind_difference.weighted(GRID['area']).mean(['x', 'y', 'tile']).compute().item():1.2f}\"\n",
    ")\n",
    "ax3.coastlines()\n",
    "plt.colorbar(h3, ax=ax3, label=\"cm/s\")\n",
    "fig.set_size_inches([10, 6])\n",
    "fig.set_dpi(150)\n",
    "fig.tight_layout()\n",
    "fig.savefig(f\"{OUTDIR}/column_integrated_moisture_tendency_components.png\")"
   ]
  },
  {
   "cell_type": "code",
   "execution_count": null,
   "metadata": {},
   "outputs": [],
   "source": []
  }
 ],
 "metadata": {
  "kernelspec": {
   "display_name": "Python 3",
   "language": "python",
   "name": "python3"
  },
  "language_info": {
   "codemirror_mode": {
    "name": "ipython",
    "version": 3
   },
   "file_extension": ".py",
   "mimetype": "text/x-python",
   "name": "python",
   "nbconvert_exporter": "python",
   "pygments_lexer": "ipython3",
   "version": "3.7.10"
  }
 },
 "nbformat": 4,
 "nbformat_minor": 4
}
