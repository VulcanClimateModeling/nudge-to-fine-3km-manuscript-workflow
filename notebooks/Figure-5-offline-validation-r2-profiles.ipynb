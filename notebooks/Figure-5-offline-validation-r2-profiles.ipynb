{
 "cells": [
  {
   "cell_type": "markdown",
   "id": "celtic-hindu",
   "metadata": {},
   "source": [
    "Offline validation $R^2$ profiles"
   ]
  },
  {
   "cell_type": "code",
   "execution_count": null,
   "id": "changed-entity",
   "metadata": {},
   "outputs": [],
   "source": [
    "import os\n",
    "import xarray as xr\n",
    "import numpy as np\n",
    "import fsspec\n",
    "from matplotlib import pyplot as plt\n",
    "import matplotlib as mpl\n",
    "import string"
   ]
  },
  {
   "cell_type": "code",
   "execution_count": null,
   "id": "special-month",
   "metadata": {},
   "outputs": [],
   "source": [
    "mpl.rcParams.update({'font.size': 8})\n",
    "colors = plt.rcParams['axes.prop_cycle'].by_key()['color']\n",
    "colors = [colors[ind] for ind in [0, 8, 6]]\n",
    "mpl.rcParams['axes.prop_cycle'] = mpl.cycler(color=colors) "
   ]
  },
  {
   "cell_type": "code",
   "execution_count": null,
   "id": "chief-bottom",
   "metadata": {},
   "outputs": [],
   "source": [
    "CASES = {\n",
    "    '$TqR$-RF': ['gs://vcm-ml-experiments/2021-06-21-nudge-to-c3072-dq1-dq2-only/rf/offline_diags/postphysics_ML_tendencies/offline_diagnostics.nc'],\n",
    "    '$TquvR$-NN': [\n",
    "        'gs://vcm-ml-experiments/2021-05-11-nudge-to-c3072-corrected-winds/nn-ensemble-model/offline_diags/dq1-dq2/offline_diagnostics.nc',\n",
    "        'gs://vcm-ml-experiments/2021-05-11-nudge-to-c3072-corrected-winds/nn-ensemble-model/offline_diags/dqu-dqv/offline_diagnostics.nc'\n",
    "    ],\n",
    "    '$TquvR$-RF': ['gs://vcm-ml-experiments/2021-05-11-nudge-to-c3072-corrected-winds/rf/offline_diags/postphysics_ML_tendencies/offline_diagnostics.nc']\n",
    "}\n",
    "\n",
    "OUTPUTDIR = 'figures'"
   ]
  },
  {
   "cell_type": "code",
   "execution_count": null,
   "id": "capable-pursuit",
   "metadata": {},
   "outputs": [],
   "source": [
    "KEEP_VARS = [\n",
    "    'pressure_level-mse-dQ1-predict_vs_target',\n",
    "    'pressure_level-mse-dQ2-predict_vs_target',\n",
    "    'pressure_level-mse-dQu-predict_vs_target',\n",
    "    'pressure_level-mse-dQv-predict_vs_target',\n",
    "    'pressure_level-mse-dQ1-mean_vs_target',\n",
    "    'pressure_level-mse-dQ2-mean_vs_target',\n",
    "    'pressure_level-mse-dQu-mean_vs_target',\n",
    "    'pressure_level-mse-dQv-mean_vs_target'\n",
    "]\n",
    "\n",
    "\n",
    "def open_diags(path):\n",
    "    with fsspec.open(path, 'rb') as f:\n",
    "        ds = xr.open_dataset(f).load()\n",
    "    return ds\n",
    "\n",
    "datasets = []\n",
    "for case, paths in CASES.items():\n",
    "    print(case)\n",
    "    if len(paths) == 1:\n",
    "        ds = open_diags(paths[0]).assign_coords({'cases': case})\n",
    "    else:\n",
    "        case_datasets = []\n",
    "        for path in paths:\n",
    "            case_datasets.append(open_diags(path))\n",
    "        ds = xr.merge(case_datasets, compat='override')\n",
    "    for variable in ['dQu', 'dQv']:\n",
    "        if variable not in ds:\n",
    "            ds[variable] = xr.full_like(ds['dQ1'], np.nan)\n",
    "    for variable in [\n",
    "        'pressure_level-mse-dQu-predict_vs_target',\n",
    "        'pressure_level-mse-dQv-predict_vs_target',\n",
    "        'pressure_level-mse-dQu-mean_vs_target',\n",
    "        'pressure_level-mse-dQv-mean_vs_target'\n",
    "    ]:\n",
    "        if variable not in ds:\n",
    "            ds[variable] = xr.full_like(ds['pressure_level-mse-dQ1-predict_vs_target'], np.nan)\n",
    "    datasets.append(ds[KEEP_VARS].assign_coords({'cases': case}))\n",
    "diags = xr.concat(datasets, dim=\"cases\")\n",
    "diags = diags.assign_coords(pressure=(diags.pressure/100).assign_attrs({'units': 'hPa'}))"
   ]
  },
  {
   "cell_type": "code",
   "execution_count": null,
   "id": "auburn-withdrawal",
   "metadata": {},
   "outputs": [],
   "source": [
    "R2_VARS = {\n",
    "    'dQ1': 'K/s',\n",
    "    'dQ2': 'kg/kg/s',\n",
    "    'dQu': 'm/s^2',\n",
    "    'dQv': 'm/s^2'\n",
    "}\n",
    "\n",
    "def add_R2(ds):\n",
    "    for var in R2_VARS:\n",
    "        ds[f\"pressure_level-R2-{var}\"] = 1.0 - ds[f'pressure_level-mse-{var}-predict_vs_target']/ds[f'pressure_level-mse-{var}-mean_vs_target']\n",
    "    return ds\n",
    "\n",
    "diags = add_R2(diags)"
   ]
  },
  {
   "cell_type": "code",
   "execution_count": null,
   "id": "derived-homework",
   "metadata": {},
   "outputs": [],
   "source": [
    "def plot_R2_cases(da):\n",
    "    fg = da.plot(y='pressure', yincrease=False, hue='cases', col='variable', lw=2, add_legend=False)\n",
    "    fg.set_ylabels('pressure [hPa]')\n",
    "    fg.set_xlabels('$R^{2}$')\n",
    "    for i, ax in enumerate(fg.axes.flatten()):\n",
    "        if i == 3:\n",
    "            ax.legend(labels=da.cases.values)\n",
    "        ax.set_xlim([0, 0.45])\n",
    "        ax.set_ylim([1.0e3, 0])\n",
    "        ax.grid(axis='x')\n",
    "        ax.set_title(f\"{string.ascii_lowercase[i]}) {da.coords['variable'].values[i]}\")\n",
    "    fg.fig.set_size_inches([7.6, 3])\n",
    "    fg.fig.savefig(os.path.join(OUTPUTDIR, f\"Figure_5_offline_R2_profiles.eps\"), bbox_inches='tight')"
   ]
  },
  {
   "cell_type": "code",
   "execution_count": null,
   "id": "ambient-preference",
   "metadata": {},
   "outputs": [],
   "source": [
    "r2_da = diags[[f\"pressure_level-R2-{var}\" for var in R2_VARS.keys()]].to_array().assign_coords(\n",
    "    variable=[\n",
    "        '$\\Delta Q_T$',\n",
    "        '$\\Delta Q_q$',\n",
    "        '$\\Delta Q_u$',\n",
    "        '$\\Delta Q_v$'\n",
    "    ]\n",
    ")\n",
    "plot_R2_cases(r2_da)"
   ]
  },
  {
   "cell_type": "code",
   "execution_count": null,
   "id": "faced-spanish",
   "metadata": {},
   "outputs": [],
   "source": [
    "# # this converts matplotlib eps files to a more manageable size\n",
    "\n",
    "!epstopdf figures/Figure_5_offline_R2_profiles.eps\n",
    "!pdftops -eps figures/Figure_5_offline_R2_profiles.pdf\n",
    "!rm figures/Figure_5_offline_R2_profiles.pdf"
   ]
  }
 ],
 "metadata": {
  "kernelspec": {
   "display_name": "fv3net",
   "language": "python",
   "name": "fv3net"
  },
  "language_info": {
   "codemirror_mode": {
    "name": "ipython",
    "version": 3
   },
   "file_extension": ".py",
   "mimetype": "text/x-python",
   "name": "python",
   "nbconvert_exporter": "python",
   "pygments_lexer": "ipython3",
   "version": "3.7.10"
  }
 },
 "nbformat": 4,
 "nbformat_minor": 5
}
