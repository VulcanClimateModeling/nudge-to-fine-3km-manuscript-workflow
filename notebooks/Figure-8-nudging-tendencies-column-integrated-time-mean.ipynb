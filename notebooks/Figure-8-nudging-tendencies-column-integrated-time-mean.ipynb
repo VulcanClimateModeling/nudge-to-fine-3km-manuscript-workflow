{
 "cells": [
  {
   "cell_type": "markdown",
   "metadata": {},
   "source": [
    "### Column integrated nudging tendencies"
   ]
  },
  {
   "cell_type": "code",
   "execution_count": null,
   "metadata": {},
   "outputs": [],
   "source": [
    "%matplotlib inline\n",
    "import matplotlib.pyplot as plt\n",
    "import matplotlib as mpl\n",
    "\n",
    "import xarray as xr\n",
    "import fsspec\n",
    "import cftime\n",
    "import intake\n",
    "import vcm\n",
    "import numpy as np\n",
    "\n",
    "from vcm import  mass_integrate\n",
    "from vcm.calc.thermo import column_integrated_heating_from_isochoric_transition, minus_column_integrated_moistening, latent_heat_vaporization\n",
    "from fv3viz import plot_cube, mappable_var\n",
    "\n",
    "N2F_TENDENCIES_PATH = \"gs://vcm-ml-experiments/2021-04-13-n2f-c3072/3-hrly-ave-rad-precip-setting-30-min-rad-timestep-shifted-start-tke-edmf/nudging_tendencies.zarr\"\n",
    "MAPPABLE_VAR_KWARGS = {\n",
    "    \"coord_x_center\": \"x\",\n",
    "    \"coord_y_center\": \"y\",\n",
    "    \"coord_x_outer\": \"x_interface\",\n",
    "    \"coord_y_outer\": \"y_interface\",\n",
    "    \"coord_vars\": {\n",
    "        \"lonb\": [\"y_interface\", \"x_interface\", \"tile\"],\n",
    "        \"latb\": [\"y_interface\", \"x_interface\", \"tile\"],\n",
    "        \"lon\": [\"y\", \"x\", \"tile\"],\n",
    "        \"lat\": [\"y\", \"x\", \"tile\"],\n",
    "    },\n",
    "}\n",
    "\n",
    "def zonal_mean(\n",
    "    ds: xr.Dataset, latitude: xr.DataArray, bins=np.arange(-90, 91, 2)\n",
    ") -> xr.Dataset:\n",
    "    zm = ds.groupby_bins(latitude, bins=bins).mean().rename(lat_bins=\"latitude\")\n",
    "    latitude_midpoints = [x.item().mid for x in zm[\"latitude\"]]\n",
    "    return zm.assign_coords(latitude=latitude_midpoints)\n",
    "\n",
    "\n",
    "n2f_tendencies = intake.open_zarr(N2F_TENDENCIES_PATH).to_dask()"
   ]
  },
  {
   "cell_type": "code",
   "execution_count": null,
   "metadata": {},
   "outputs": [],
   "source": [
    "mpl.rcParams.update({'font.size': 8})"
   ]
  },
  {
   "cell_type": "markdown",
   "metadata": {},
   "source": [
    "#### moist static energy nudging tendency $ \\langle nQ_{MSE} \\rangle =    \\langle  nQ1 \\rangle + L_{v}  \\langle nQ2 \\rangle$\n",
    "$<nQ1>$ heating is for constant volume"
   ]
  },
  {
   "cell_type": "code",
   "execution_count": null,
   "metadata": {},
   "outputs": [],
   "source": [
    "Cp =  1004.\n",
    "Rd = 287.05\n",
    "Cv = Cp - Rd\n",
    "\n",
    "def moist_static_energy_tendency(T: xr.DataArray, dQ1: xr.DataArray, dQ2: xr.DataArray): \n",
    "    return Cv * dQ1 + latent_heat_vaporization(T) * dQ2"
   ]
  },
  {
   "cell_type": "markdown",
   "metadata": {},
   "source": [
    "#### nudged to fine wind tendencies are on the interfaces, need to center and rotate"
   ]
  },
  {
   "cell_type": "code",
   "execution_count": null,
   "metadata": {},
   "outputs": [],
   "source": [
    "from vcm.catalog import catalog\n",
    "wind_rotation_matrix = catalog[\"wind_rotation/c48\"].read()\n",
    "grid=catalog[\"grid/c48\"].read()"
   ]
  },
  {
   "cell_type": "code",
   "execution_count": null,
   "metadata": {},
   "outputs": [],
   "source": [
    "n2f_tendencies[\"dQu\"], n2f_tendencies[\"dQv\"] = vcm.cubedsphere.center_and_rotate_xy_winds(\n",
    "    wind_rotation_matrix,\n",
    "    n2f_tendencies[\"x_wind_tendency_due_to_nudging\"],\n",
    "    n2f_tendencies[\"y_wind_tendency_due_to_nudging\"],\n",
    ")"
   ]
  },
  {
   "cell_type": "markdown",
   "metadata": {},
   "source": [
    "#### Need the pressure level thicknesses"
   ]
  },
  {
   "cell_type": "code",
   "execution_count": null,
   "metadata": {},
   "outputs": [],
   "source": [
    "n2f_state = intake.open_zarr(\"gs://vcm-ml-experiments/2021-04-13-n2f-c3072/3-hrly-ave-rad-precip-setting-30-min-rad-timestep-shifted-start-tke-edmf/state_after_timestep.zarr\").to_dask().sel(time=n2f_tendencies.time)\n",
    "n2f_tendencies[\"pressure_thickness_of_atmospheric_layer\"] = n2f_state[\"pressure_thickness_of_atmospheric_layer\"]\n",
    "n2f_tendencies[\"air_temperature\"] = n2f_state[\"air_temperature\"]"
   ]
  },
  {
   "cell_type": "code",
   "execution_count": null,
   "metadata": {},
   "outputs": [],
   "source": [
    "n2f_tendencies[\"column_integrated_dQv\"] = mass_integrate(\n",
    "    n2f_tendencies[\"dQv\"],\n",
    "    n2f_tendencies[\"pressure_thickness_of_atmospheric_layer\"],\n",
    "    dim=\"z\"\n",
    ").mean(\"time\").load()\n"
   ]
  },
  {
   "cell_type": "code",
   "execution_count": null,
   "metadata": {},
   "outputs": [],
   "source": [
    "\n",
    "n2f_tendencies[\"column_integrated_dQu\"] = mass_integrate(\n",
    "    n2f_tendencies[\"dQu\"],\n",
    "    n2f_tendencies[\"pressure_thickness_of_atmospheric_layer\"],\n",
    "    dim=\"z\"\n",
    ").mean(\"time\").load()\n",
    " \n",
    "n2f_tendencies[\"column_integrated_dQv\"] = mass_integrate(\n",
    "    n2f_tendencies[\"dQv\"],\n",
    "    n2f_tendencies[\"pressure_thickness_of_atmospheric_layer\"],\n",
    "    dim=\"z\"\n",
    ").mean(\"time\").load()\n"
   ]
  },
  {
   "cell_type": "code",
   "execution_count": null,
   "metadata": {},
   "outputs": [],
   "source": [
    "n2f_tendencies[\"column_integrated_heating_from_isochoric_transition\"] = column_integrated_heating_from_isochoric_transition(\n",
    "    n2f_tendencies[\"air_temperature_tendency_due_to_nudging\"],\n",
    "    n2f_tendencies[\"pressure_thickness_of_atmospheric_layer\"],\n",
    ").mean(\"time\").load()\n"
   ]
  },
  {
   "cell_type": "code",
   "execution_count": null,
   "metadata": {},
   "outputs": [],
   "source": [
    "n2f_tendencies[\"column_integrated_drying\"] = minus_column_integrated_moistening(\n",
    "    n2f_tendencies[\"specific_humidity_tendency_due_to_nudging\"],\n",
    "    n2f_tendencies[\"pressure_thickness_of_atmospheric_layer\"],\n",
    ").mean(\"time\").load()\n",
    "\n"
   ]
  },
  {
   "cell_type": "code",
   "execution_count": null,
   "metadata": {},
   "outputs": [],
   "source": [
    "\n",
    "n2f_tendencies[\"column_integrated_mse_tendency\"] = mass_integrate(\n",
    "    moist_static_energy_tendency(n2f_tendencies[\"air_temperature\"], n2f_tendencies[\"air_temperature_tendency_due_to_nudging\"], n2f_tendencies[\"specific_humidity_tendency_due_to_nudging\"]),\n",
    "    n2f_tendencies[\"pressure_thickness_of_atmospheric_layer\"],\n",
    "    dim=\"z\"\n",
    ").mean(\"time\").load()\n",
    "                      \n",
    "       "
   ]
  },
  {
   "cell_type": "code",
   "execution_count": null,
   "metadata": {},
   "outputs": [],
   "source": [
    "\n",
    "plot_cube(\n",
    "    mappable_var(\n",
    "        xr.merge([n2f_tendencies[\"column_integrated_mse_tendency\"], grid]),\n",
    "        \"column_integrated_mse_tendency\",\n",
    "        **MAPPABLE_VAR_KWARGS,\n",
    "    ),\n",
    "    cbar_label=\"W/m$^2$\"\n",
    "    \n",
    ")\n",
    "plt.title(\"column integrated \\n moist static energy tendency\")\n",
    "# plt.savefig(\"figures/nudging_column_int_nQmse_time_mean.png\", bbox_inches = \"tight\")"
   ]
  },
  {
   "cell_type": "markdown",
   "metadata": {},
   "source": [
    "#### Column integrated heating (isochoric transition- this is how it is reported in prognostic run diags)\n"
   ]
  },
  {
   "cell_type": "code",
   "execution_count": null,
   "metadata": {},
   "outputs": [],
   "source": [
    "plot_cube(\n",
    "    mappable_var(\n",
    "        xr.merge([n2f_tendencies[\"column_integrated_heating_from_isochoric_transition\"], grid]),\n",
    "        \"column_integrated_heating_from_isochoric_transition\",\n",
    "        **MAPPABLE_VAR_KWARGS,\n",
    "    ),\n",
    "    cbar_label=\"W/m$^2$\"\n",
    "    \n",
    ")\n",
    "plt.title(\"column integrated \\n heating tendency from isochoric transition\")\n",
    "# plt.savefig(\"figures/nudging_column_int_isochoric_heating_time_mean.png\", bbox_inches = \"tight\")"
   ]
  },
  {
   "cell_type": "markdown",
   "metadata": {},
   "source": [
    "#### Column integrated drying "
   ]
  },
  {
   "cell_type": "code",
   "execution_count": null,
   "metadata": {},
   "outputs": [],
   "source": [
    "plot_cube(\n",
    "    mappable_var(\n",
    "        xr.merge([n2f_tendencies[\"column_integrated_drying\"], grid]),\n",
    "        \"column_integrated_drying\",\n",
    "        **MAPPABLE_VAR_KWARGS,\n",
    "    ),\n",
    "    cbar_label=\"mm/day\",\n",
    "    vmax=4\n",
    "    \n",
    ")\n",
    "plt.title(\"column integrated drying tendency\")\n",
    "# plt.savefig(\"figures/nudging_column_int_drying_time_mean.png\",bbox_inches = \"tight\")"
   ]
  },
  {
   "cell_type": "markdown",
   "metadata": {},
   "source": [
    "#### Column integrated dQu [Pa]: Nudge to obs (top) vs nudge to fine (bottom)"
   ]
  },
  {
   "cell_type": "code",
   "execution_count": null,
   "metadata": {},
   "outputs": [],
   "source": [
    "plot_cube(\n",
    "    mappable_var(\n",
    "        xr.merge([n2f_tendencies[\"column_integrated_dQu\"], grid]),\n",
    "        \"column_integrated_dQu\",\n",
    "        **MAPPABLE_VAR_KWARGS,\n",
    "    ),\n",
    "    cbar_label=\"Pa\"\n",
    "    \n",
    ")\n",
    "plt.title(\"column integrated \\n eastward wind nudging tendency\")\n",
    "# plt.savefig(\"figures/nudging_column_int_eastwind_time_mean.png\", bbox_inches = \"tight\")"
   ]
  },
  {
   "cell_type": "markdown",
   "metadata": {},
   "source": [
    "#### dQu pressure level zonal mean time average"
   ]
  },
  {
   "cell_type": "code",
   "execution_count": null,
   "metadata": {},
   "outputs": [],
   "source": [
    "pressure_level_northward_wind = vcm.interpolate_to_pressure_levels(\n",
    "         n2f_tendencies[\"dQv\"], delp=n2f_tendencies[\"pressure_thickness_of_atmospheric_layer\"], dim=\"z\"\n",
    ")\n",
    "\n",
    "dQv_time_mean_zonal_pressure_level = zonal_mean(pressure_level_northward_wind, grid.lat).mean(\"time\").load()"
   ]
  },
  {
   "cell_type": "code",
   "execution_count": null,
   "metadata": {},
   "outputs": [],
   "source": [
    "fig, ax = plt.subplots()\n",
    "f = (\n",
    "        dQv_time_mean_zonal_pressure_level * (3 * 3600)\n",
    "    ).plot(robust=True, yincrease=False, )\n",
    "plt.title(\"northward wind tendency * 3 hr\")\n",
    "ax.set_ylabel(\"Pressure [Pa]\")\n",
    "f.colorbar.set_label(\"m/s/3-hr\")\n",
    "# plt.savefig(\"figures/nudging_zonal_pressure_northwind_tendency_time_mean.png\", bbox_inches = \"tight\")\n"
   ]
  },
  {
   "cell_type": "markdown",
   "metadata": {},
   "source": [
    "#### Composite figure"
   ]
  },
  {
   "cell_type": "code",
   "execution_count": null,
   "metadata": {},
   "outputs": [],
   "source": [
    "from cartopy import crs as ccrs"
   ]
  },
  {
   "cell_type": "code",
   "execution_count": null,
   "metadata": {},
   "outputs": [],
   "source": [
    "\n",
    "fig, axes = plt.subplots(2, 2, subplot_kw={\"projection\":ccrs.Robinson()}, figsize=(7.6, 4.5))\n",
    "\n",
    "# a) heating\n",
    "plot_cube(\n",
    "    mappable_var(\n",
    "        xr.merge([n2f_tendencies[\"column_integrated_heating_from_isochoric_transition\"], grid]),\n",
    "        \"column_integrated_heating_from_isochoric_transition\",\n",
    "        **MAPPABLE_VAR_KWARGS,\n",
    "    ),\n",
    "    cbar_label=\"W/m$^2$\",\n",
    "    ax=axes[0][0],\n",
    "    rasterized=True,\n",
    ")\n",
    "axes[0][0].set_title(r\"a) $\\langle \\Delta Q_1 \\rangle$\")\n",
    "\n",
    "# b) MSE\n",
    "plot_cube(\n",
    "    mappable_var(\n",
    "        xr.merge([n2f_tendencies[\"column_integrated_mse_tendency\"], grid]),\n",
    "        \"column_integrated_mse_tendency\",\n",
    "        **MAPPABLE_VAR_KWARGS,\n",
    "    ),\n",
    "    cbar_label=\"W/m$^2$\",\n",
    "    ax=axes[0][1],\n",
    "    rasterized=True\n",
    ")\n",
    "axes[0][1].set_title(r\"b) $\\langle \\Delta Q_m \\rangle$\")\n",
    "\n",
    "# c) eastward wind\n",
    "plot_cube(\n",
    "    mappable_var(\n",
    "        xr.merge([n2f_tendencies[\"column_integrated_dQu\"], grid]),\n",
    "        \"column_integrated_dQu\",\n",
    "        **MAPPABLE_VAR_KWARGS,\n",
    "    ),\n",
    "    cbar_label=\"Pa\",\n",
    "    ax=axes[1][0],\n",
    "    rasterized=True\n",
    "    \n",
    ")\n",
    "axes[1][0].set_title(r\"c) $\\langle \\Delta Q_u \\rangle$\")\n",
    "\n",
    "# d) northward wind\n",
    "axes[1][1].set_axis_off()\n",
    "\n",
    "left = 0.625\n",
    "bottom = 0.125\n",
    "width = 0.33\n",
    "height = 0.25\n",
    "ax = fig.add_axes([left, bottom, width, height])\n",
    "\n",
    "f = (\n",
    "        dQv_time_mean_zonal_pressure_level * (3 * 3600)\n",
    "    ).plot(robust=True, yincrease=False, ax=ax, rasterized=True)\n",
    "ax.set_title(\"d) $\\Delta Q_v$\")\n",
    "ax.set_ylabel(\"\\n \\n \\n Pressure [Pa]\")\n",
    "f.colorbar.set_label(\"m/s/3-hr\")\n",
    "\n",
    "\n",
    "fig.subplots_adjust(hspace=0.7, wspace=0.45)\n",
    "plt.tight_layout()\n",
    "\n",
    "plt.savefig(\"figures/Figure_8_composite_nudging_tendencies_col_int.pdf\", bbox_inches = \"tight\")"
   ]
  },
  {
   "cell_type": "code",
   "execution_count": null,
   "metadata": {},
   "outputs": [],
   "source": []
  }
 ],
 "metadata": {
  "kernelspec": {
   "display_name": "fv3net",
   "language": "python",
   "name": "fv3net"
  },
  "language_info": {
   "codemirror_mode": {
    "name": "ipython",
    "version": 3
   },
   "file_extension": ".py",
   "mimetype": "text/x-python",
   "name": "python",
   "nbconvert_exporter": "python",
   "pygments_lexer": "ipython3",
   "version": "3.7.10"
  }
 },
 "nbformat": 4,
 "nbformat_minor": 4
}
