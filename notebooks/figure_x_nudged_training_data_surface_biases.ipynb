{
 "cells": [
  {
   "cell_type": "markdown",
   "metadata": {},
   "source": [
    "### Nudged training data surface biases\n",
    "\n",
    "make figures demonstrating surface biases in the N2F nudged training runs (with and without prescribing states)"
   ]
  },
  {
   "cell_type": "code",
   "execution_count": null,
   "metadata": {},
   "outputs": [],
   "source": [
    "import xarray as xr\n",
    "import numpy as np\n",
    "import fsspec\n",
    "from matplotlib import pyplot as plt\n",
    "import matplotlib\n",
    "matplotlib.rcParams.update({'font.size': 14})\n",
    "from vcm.catalog import catalog\n",
    "from vcm.fv3.metadata import standardize_fv3_diagnostics\n",
    "from dask.diagnostics import ProgressBar\n",
    "import os"
   ]
  },
  {
   "cell_type": "code",
   "execution_count": null,
   "metadata": {},
   "outputs": [],
   "source": [
    "CASES = dict(\n",
    "    free_running = 'gs://vcm-ml-experiments/2021-04-13/baseline-physics-run-20160801.010000-start-rad-step-1800s',\n",
    "    nudged = 'gs://vcm-ml-experiments/2021-04-13-n2f-c3072/3-hrly-ave-control-30-min-rad-timestep-shifted-start-tke-edmf',\n",
    "    nudged_prescribed_sfc_rad_precip = 'gs://vcm-ml-experiments/2021-04-13-n2f-c3072/3-hrly-ave-rad-precip-setting-30-min-rad-timestep-shifted-start-tke-edmf'\n",
    ")\n",
    "\n",
    "OUTPUTDIR = '.'"
   ]
  },
  {
   "cell_type": "code",
   "execution_count": null,
   "metadata": {},
   "outputs": [],
   "source": [
    "plot_vars = {\n",
    "    'total_precip_to_surface': 'precipitation rate',\n",
    "    'LHTFLsfc': 'latent heat flux',\n",
    "    'SHTFLsfc': 'sensible heat flux',\n",
    "    'DSWRFsfc': 'sfc. downward SW',\n",
    "    'DLWRFsfc': 'sfc. downward LW'\n",
    "}"
   ]
  },
  {
   "cell_type": "code",
   "execution_count": null,
   "metadata": {},
   "outputs": [],
   "source": [
    "area = catalog['grid/c48'].to_dask()['area']\n",
    "mask = catalog['landseamask/c48'].to_dask()['land_sea_mask']\n",
    "\n",
    "def land_mean(da, mask, area):\n",
    "    area = area.where(mask == 1.0)\n",
    "    mean = weighted_mean(da, area)\n",
    "    return mean.assign_attrs(da.attrs)\n",
    "    \n",
    "def weighted_mean(var, weights):\n",
    "    weights = weights/weights.mean()\n",
    "    return (weights*var).mean(dim=['x', 'y', 'tile'])"
   ]
  },
  {
   "cell_type": "code",
   "execution_count": null,
   "metadata": {},
   "outputs": [],
   "source": [
    "SECONDS_PER_DAY = 86400\n",
    "\n",
    "def _total_precip_to_surface(ds: xr.Dataset) -> xr.DataArray:\n",
    "    total_precip_to_surface = ds.total_precipitation_rate * SECONDS_PER_DAY\n",
    "    total_precip_to_surface.attrs = {\n",
    "        \"long_name\": \"total precip to surface (max(PRATE-<dQ2>-<nQ2>, 0))\",\n",
    "        \"units\": \"mm/day\",\n",
    "    }\n",
    "    return total_precip_to_surface.rename(\"total_precip_to_surface\")\n",
    "\n"
   ]
  },
  {
   "cell_type": "code",
   "execution_count": null,
   "metadata": {},
   "outputs": [],
   "source": [
    "def open_diags(path, rename):\n",
    "    sfc_ds = standardize_fv3_diagnostics(\n",
    "        xr.open_zarr(fsspec.get_mapper(os.path.join(path, 'sfc_dt_atmos.zarr')), consolidated=True)\n",
    "    )\n",
    "    diags_ds = standardize_fv3_diagnostics(\n",
    "        xr.open_zarr(fsspec.get_mapper(os.path.join(path, 'diags.zarr')), consolidated=True)\n",
    "    )\n",
    "    ds = xr.merge([sfc_ds, diags_ds, _total_precip_to_surface(diags_ds)])\n",
    "    \n",
    "    new_ds = {}\n",
    "    for old, new in rename.items():\n",
    "        new_ds[new] = ds[old]\n",
    "        \n",
    "    return xr.Dataset(new_ds)\n",
    "\n",
    "\n",
    "def add_units(ds):\n",
    "    for var in ds.data_vars:\n",
    "        if 'precipitation' in var:\n",
    "            ds[var].attrs.update({'units': 'mm/day'})\n",
    "        else:\n",
    "            ds[var].attrs.update({'units': 'W/m^2'})\n",
    "    return ds\n",
    "\n",
    "\n",
    "datasets = []\n",
    "for case, url in CASES.items():\n",
    "    print(case)\n",
    "    ds = open_diags(url, plot_vars).resample(time=\"1D\", label=\"left\").mean()\n",
    "    datasets.append(ds.assign_coords({'case': case}))\n",
    "run_ds_2d = xr.concat(datasets, dim='case')\n",
    "\n",
    "run_ds = {}\n",
    "for var in run_ds_2d.data_vars:\n",
    "    run_ds[var] = land_mean(run_ds_2d[var], mask, area)\n",
    "run_ds = add_units(xr.Dataset(run_ds))\n",
    "\n",
    "with ProgressBar():\n",
    "    run_ds = run_ds.load()"
   ]
  },
  {
   "cell_type": "code",
   "execution_count": null,
   "metadata": {},
   "outputs": [],
   "source": [
    "verif_rename = {\n",
    "    'precipitation rate': 'precipitation rate',\n",
    "    'LHTFLsfc': 'latent heat flux',\n",
    "    'SHTFLsfc': 'sensible heat flux',\n",
    "    'DSWRFsfc': 'sfc. downward SW',\n",
    "    'DLWRFsfc': 'sfc. downward LW'\n",
    "}\n",
    "\n",
    "def rename_verif(ds, rename):\n",
    "    new_ds = {}\n",
    "    for old, new in rename.items():\n",
    "        new_ds[new] = ds[old]\n",
    "    return xr.Dataset(new_ds)\n",
    "\n",
    "def add_precipitation_rate(ds):\n",
    "    seconds_per_day = 86400\n",
    "    precipitation_rate = ds['PRATEsfc']*seconds_per_day\n",
    "    precipitation_rate.attrs = {'long_name': 'precipitation rate', 'units': 'mm/day'}\n",
    "    ds['precipitation rate'] = precipitation_rate\n",
    "    return ds.drop_vars('PRATEsfc')\n",
    "\n",
    "\n",
    "verif_ds_2d = standardize_fv3_diagnostics(catalog['40day_c48_gfsphysics_15min_may2020'].to_dask())\n",
    "verif_ds_2d = add_precipitation_rate(verif_ds_2d)\n",
    "verif_ds_2d = verif_ds_2d.resample(time=\"1D\", label=\"left\").mean()\n",
    "verif_ds_2d = rename_verif(verif_ds_2d, verif_rename)\n",
    "verif_ds = {}\n",
    "for var in verif_ds_2d.data_vars:\n",
    "    verif_ds[var] = land_mean(verif_ds_2d[var], mask, area)\n",
    "verif_ds = add_units(xr.Dataset(verif_ds))\n",
    "    \n",
    "with ProgressBar():\n",
    "    verif_ds = verif_ds.load()"
   ]
  },
  {
   "cell_type": "code",
   "execution_count": null,
   "metadata": {},
   "outputs": [],
   "source": [
    "combined_ds = xr.concat([run_ds, verif_ds.assign_coords({'case': 'verification'})], dim='case', join='inner')"
   ]
  },
  {
   "cell_type": "code",
   "execution_count": null,
   "metadata": {},
   "outputs": [],
   "source": [
    "labels = ['baseline', 'nudged', 'nudged w/ prescribed rad.+precip.', 'coarsened fine-res verif.']\n",
    "\n",
    "def case_comparison_ts(da):\n",
    "    fig, ax = plt.subplots(1,1)\n",
    "    if da.name == 'sfc. downward SW':\n",
    "        h = da.plot(ax=ax, hue='case', lw=2)\n",
    "        ax.legend(h, labels)\n",
    "    else:\n",
    "        da.plot(ax=ax, hue='case', lw=2, add_legend=False)\n",
    "    ax.set_xlabel(None)\n",
    "    ax.set_ylabel(da.attrs.get('units'))\n",
    "    ax.set_xlim([da.time.values[0], da.time.values[-4]])\n",
    "    ax.set_ylim([0, np.nanmax(da.values)*1.1])\n",
    "    ax.set_title(da.name)\n",
    "    ax.grid(axis='y')\n",
    "    plt.xticks(rotation = 45)\n",
    "    fig.tight_layout()\n",
    "    fig.set_size_inches([5, 6])\n",
    "    fig.set_dpi(150)\n",
    "    fig.savefig(os.path.join(OUTPUTDIR, f\"{da.name}_land_bias_TS.png\"), bbox_inches='tight')"
   ]
  },
  {
   "cell_type": "code",
   "execution_count": null,
   "metadata": {},
   "outputs": [],
   "source": [
    "for var in combined_ds.data_vars:\n",
    "    case_comparison_ts(combined_ds[var])"
   ]
  },
  {
   "cell_type": "code",
   "execution_count": null,
   "metadata": {},
   "outputs": [],
   "source": []
  }
 ],
 "metadata": {
  "kernelspec": {
   "display_name": "fv3net",
   "language": "python",
   "name": "fv3net"
  },
  "language_info": {
   "codemirror_mode": {
    "name": "ipython",
    "version": 3
   },
   "file_extension": ".py",
   "mimetype": "text/x-python",
   "name": "python",
   "nbconvert_exporter": "python",
   "pygments_lexer": "ipython3",
   "version": "3.7.9"
  }
 },
 "nbformat": 4,
 "nbformat_minor": 5
}
