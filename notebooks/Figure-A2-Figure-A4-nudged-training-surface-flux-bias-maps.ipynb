{
 "cells": [
  {
   "cell_type": "markdown",
   "metadata": {},
   "source": [
    "### nudged training surface flux bias maps\n",
    "\n",
    "Compare the effects of setting precipitation in the nudged run on time-mean surface turbulent flux biases"
   ]
  },
  {
   "cell_type": "code",
   "execution_count": null,
   "metadata": {},
   "outputs": [],
   "source": [
    "import xarray as xr\n",
    "import numpy as np\n",
    "import intake\n",
    "import cftime\n",
    "from matplotlib import pyplot as plt\n",
    "import matplotlib as mpl\n",
    "from vcm.catalog import catalog\n",
    "from vcm.fv3.metadata import standardize_fv3_diagnostics\n",
    "import fv3viz as viz\n",
    "import os\n",
    "from dask.diagnostics import ProgressBar\n",
    "import warnings"
   ]
  },
  {
   "cell_type": "code",
   "execution_count": null,
   "metadata": {},
   "outputs": [],
   "source": [
    "mpl.rcParams.update({'font.size': 8})"
   ]
  },
  {
   "cell_type": "code",
   "execution_count": null,
   "metadata": {},
   "outputs": [],
   "source": [
    "# paths and experiments\n",
    "\n",
    "CASES = {\n",
    "    'baseline': 'gs://vcm-ml-experiments/2021-04-13/baseline-physics-run-20160801.010000-start-rad-step-1800s',\n",
    "    'nudging only': 'gs://vcm-ml-experiments/2021-04-13-n2f-c3072/3-hrly-ave-control-30-min-rad-timestep-shifted-start-tke-edmf',\n",
    "    'nudging + prescribed rad. & precip': 'gs://vcm-ml-experiments/2021-04-13-n2f-c3072/3-hrly-ave-rad-precip-setting-30-min-rad-timestep-shifted-start-tke-edmf'\n",
    "}\n",
    "\n",
    "verification_physics_entry = '40day_c48_gfsphysics_15min_may2020'\n",
    "output_dir = 'figures'"
   ]
  },
  {
   "cell_type": "code",
   "execution_count": null,
   "metadata": {},
   "outputs": [],
   "source": [
    "# load run datasets\n",
    "\n",
    "drop_vars = [\n",
    "    'column_heating_nudge',\n",
    "    'column_moistening_nudge',\n",
    "    'column_mass_tendency_nudge',\n",
    "    'net_moistening_due_to_nudging',\n",
    "    'net_heating_due_to_nudging',\n",
    "    'net_mass_tendency_due_to_nudging',\n",
    "    'column_integrated_dQu',\n",
    "    'column_integrated_dQv',\n",
    "    'net_heating',\n",
    "    'net_moistening',\n",
    "    'total_precip',\n",
    "    'total_precipitation_rate',\n",
    "    'USWRFsfc_from_RRTMG',\n",
    "    'DSWRFsfc_from_RRTMG',\n",
    "    'DLWRFsfc_from_RRTMG'\n",
    "]\n",
    "\n",
    "run_datasets = []\n",
    "for case, url in CASES.items():\n",
    "    print(f\"{case}: {url}\")\n",
    "    dycore = (\n",
    "        standardize_fv3_diagnostics(intake.open_zarr(os.path.join(url, 'atmos_dt_atmos.zarr')).to_dask())\n",
    "        .resample(time=\"1H\", label=\"right\").nearest()\n",
    "    )\n",
    "    physics = (\n",
    "        standardize_fv3_diagnostics(intake.open_zarr(os.path.join(url, 'sfc_dt_atmos.zarr')).to_dask())\n",
    "        .resample(time=\"1H\", label=\"right\").nearest()\n",
    "    )\n",
    "    diags = (\n",
    "        standardize_fv3_diagnostics(intake.open_zarr(os.path.join(url, 'diags.zarr')).to_dask())\n",
    "        .resample(time=\"1H\", label=\"right\").nearest()\n",
    "    )\n",
    "    merged = xr.merge([dycore, physics, diags]).drop_vars(names=drop_vars, errors='ignore')\n",
    "    run_datasets.append(merged.assign_coords(cases=[case]))\n",
    "run_dataset = xr.concat(run_datasets, dim='cases', join='inner')\n",
    "\n",
    "run_dataset = run_dataset.loc[{'time': run_dataset.time > cftime.DatetimeJulian(2016, 8, 5, 1, 0, 0, 0)}]"
   ]
  },
  {
   "cell_type": "code",
   "execution_count": null,
   "metadata": {},
   "outputs": [],
   "source": [
    "# load verification dataset and subsample to hourly\n",
    "verification_dataset = (\n",
    "    standardize_fv3_diagnostics(catalog[verification_physics_entry].to_dask())\n",
    "    .resample(time=\"1H\", label=\"right\").nearest()\n",
    ")"
   ]
  },
  {
   "cell_type": "code",
   "execution_count": null,
   "metadata": {},
   "outputs": [],
   "source": [
    "# use common times for both runs and verif\n",
    "common_time = verification_dataset.time.loc[verification_dataset.time > run_dataset.time[0]]\n",
    "run_dataset = run_dataset.sel(time=common_time)\n",
    "verification_dataset = verification_dataset.sel(time=common_time)"
   ]
  },
  {
   "cell_type": "code",
   "execution_count": null,
   "metadata": {},
   "outputs": [],
   "source": [
    "def add_total_downward_surface_radiative_flux(ds: xr.Dataset) -> xr.Dataset:\n",
    "    DRFsfc = ds['DSWRFsfc'] + ds['DLWRFsfc']\n",
    "    DRFsfc = DRFsfc.assign_attrs({\n",
    "        'long_name': 'total downward radiative flux at surface',\n",
    "        'units': 'W/m^2'\n",
    "    })\n",
    "    ds['DRFsfc'] = DRFsfc\n",
    "    return ds"
   ]
  },
  {
   "cell_type": "code",
   "execution_count": null,
   "metadata": {},
   "outputs": [],
   "source": [
    "run_dataset = add_total_downward_surface_radiative_flux(run_dataset)\n",
    "verification_dataset = add_total_downward_surface_radiative_flux(verification_dataset)"
   ]
  },
  {
   "cell_type": "code",
   "execution_count": null,
   "metadata": {},
   "outputs": [],
   "source": [
    "TIME_MEANS = [\n",
    "    'DLWRFsfc',\n",
    "    'DSWRFsfc',\n",
    "    'LHTFLsfc',\n",
    "    'SHTFLsfc',\n",
    "    'DRFsfc',\n",
    "]\n",
    "\n",
    "def time_mean_variable(da: xr.DataArray) -> xr.DataArray:\n",
    "    time_mean_da = da.mean(dim=['time'])\n",
    "    time_mean_da.attrs = da.attrs\n",
    "    return time_mean_da\n",
    "\n",
    "def add_time_means(ds: xr.Dataset) -> xr.Dataset:\n",
    "    for name in TIME_MEANS:\n",
    "        try:\n",
    "            ds = ds.assign({f'{name}_time_mean': time_mean_variable(ds[name])})\n",
    "        except KeyError:\n",
    "            print(f\"Variable could not be computed: {name}\")\n",
    "    return ds"
   ]
  },
  {
   "cell_type": "code",
   "execution_count": null,
   "metadata": {},
   "outputs": [],
   "source": [
    "run_dataset = add_time_means(run_dataset)\n",
    "verification_dataset = add_time_means(verification_dataset)"
   ]
  },
  {
   "cell_type": "code",
   "execution_count": null,
   "metadata": {},
   "outputs": [],
   "source": [
    "# open grid\n",
    "\n",
    "grid_c48 = standardize_fv3_diagnostics(catalog[\"grid/c48\"].to_dask())\n",
    "ls_mask = standardize_fv3_diagnostics(catalog[\"landseamask/c48\"].to_dask())\n",
    "grid_c48 = xr.merge([grid_c48, ls_mask])\n",
    "\n",
    "MAPPABLE_VAR_KWARGS = {\n",
    "    \"coord_x_center\": \"x\",\n",
    "    \"coord_y_center\": \"y\",\n",
    "    \"coord_x_outer\": \"x_interface\",\n",
    "    \"coord_y_outer\": \"y_interface\",\n",
    "    \"coord_vars\": {\n",
    "        \"lonb\": [\"y_interface\", \"x_interface\", \"tile\"],\n",
    "        \"latb\": [\"y_interface\", \"x_interface\", \"tile\"],\n",
    "        \"lon\": [\"y\", \"x\", \"tile\"],\n",
    "        \"lat\": [\"y\", \"x\", \"tile\"],\n",
    "    },\n",
    "}"
   ]
  },
  {
   "cell_type": "code",
   "execution_count": null,
   "metadata": {},
   "outputs": [],
   "source": [
    "def prognostic_time_mean_maps(da, row=None, title=None, plot_cube_kwargs=None, bias=None, fig_size=[14, 4]):\n",
    "    plot_cube_kwargs = plot_cube_kwargs or {}\n",
    "    fig, axes, _, _, facetgrid = viz.plot_cube(da, col='cases', row=row, **plot_cube_kwargs)\n",
    "    facetgrid.set_titles(template='{value}')\n",
    "    if bias:\n",
    "        if row:\n",
    "            for i in range(da.sizes[row]):\n",
    "                row_axes = axes[i]\n",
    "                for j, case in enumerate(da.cases.values):\n",
    "                    ax = row_axes[j]\n",
    "                    if i == 0:\n",
    "                        ax.set_title(\n",
    "                            f\"{title if title else case}\\n\"\n",
    "                            f\"{bias[0]}: {bias[1][j, i]:3.1f}\"\n",
    "                        )\n",
    "                    else:\n",
    "                        ax.set_title(\n",
    "                            f\"{bias[0]}: {bias[1][j, i]:3.1f}\"\n",
    "                        )\n",
    "                        \n",
    "        else:\n",
    "            for i, case in enumerate(da.cases.values):\n",
    "                ax = axes.flatten()[i]\n",
    "                ax.set_title(\n",
    "                    f\"{title if title else case}\\n\"\n",
    "                    f\"{bias[0]}: {bias[1][i]:3.1f}\"\n",
    "                )\n",
    "    fig.set_size_inches(fig_size)\n",
    "    return fig\n",
    "                              \n",
    "    \n",
    "def _var_rms(da, area):\n",
    "    weights = area/area.mean()\n",
    "    return np.sqrt(((da**2)*weights).mean(dim=['x', 'y', 'tile']))\n",
    "\n",
    "def _var_mean(da, area):\n",
    "    weights = area/area.mean()\n",
    "    return (weights*da).mean(dim=['x', 'y', 'tile'])\n",
    "\n",
    "def _var_land_mean(da, area, mask):\n",
    "    area = area.where(mask == 1.0)\n",
    "    return (da*area).sum(dim=['x', 'y', 'tile'])/(area.sum(dim=['x', 'y', 'tile']))"
   ]
  },
  {
   "cell_type": "code",
   "execution_count": null,
   "metadata": {},
   "outputs": [],
   "source": [
    "var = 'DLWRFsfc_time_mean'\n",
    "diff_ds = (\n",
    "    viz.mappable_var(\n",
    "        xr.merge([grid_c48, (verification_dataset - run_dataset).sel({'cases': ['nudging only']})], compat='override'),\n",
    "        var,\n",
    "        **MAPPABLE_VAR_KWARGS\n",
    "    )\n",
    ")\n",
    "with ProgressBar():\n",
    "    mean_ = _var_mean(diff_ds[var], grid_c48['area']).load()\n",
    "    \n",
    "print(mean_.item())"
   ]
  },
  {
   "cell_type": "code",
   "execution_count": null,
   "metadata": {},
   "outputs": [],
   "source": [
    "var = 'DSWRFsfc_time_mean'\n",
    "diff_ds = (\n",
    "    viz.mappable_var(\n",
    "        xr.merge([grid_c48, (verification_dataset - run_dataset).sel({'cases': ['nudging only']})], compat='override'),\n",
    "        var,\n",
    "        **MAPPABLE_VAR_KWARGS\n",
    "    )\n",
    ")\n",
    "with ProgressBar():\n",
    "    mean_ = _var_mean(diff_ds[var], grid_c48['area']).load()\n",
    "\n",
    "print(mean_.item())"
   ]
  },
  {
   "cell_type": "code",
   "execution_count": null,
   "metadata": {},
   "outputs": [],
   "source": [
    "var = 'DRFsfc_time_mean'\n",
    "diff_ds = (\n",
    "    viz.mappable_var(\n",
    "        xr.merge([grid_c48, (verification_dataset - run_dataset).sel({'cases': ['nudging only']})], compat='override'),\n",
    "        var,\n",
    "        **MAPPABLE_VAR_KWARGS\n",
    "    )\n",
    ")\n",
    "diff_ds[var] = diff_ds[var].assign_attrs({\n",
    "    'long_name': 'fine - coarse bias',\n",
    "    'units': '$W/m^2$'\n",
    "})\n",
    "with ProgressBar():\n",
    "    diff_ds = diff_ds.load()\n",
    "    mean_ = _var_mean(diff_ds[var], grid_c48['area']).load()\n",
    "    \n",
    "print(mean_.item())"
   ]
  },
  {
   "cell_type": "code",
   "execution_count": null,
   "metadata": {},
   "outputs": [],
   "source": [
    "prognostic_time_mean_maps(\n",
    "    diff_ds,\n",
    "    bias=('mean', mean_.values),\n",
    "    fig_size=[3.8, 2.5],\n",
    "    title='Surface downwelling radiation bias'\n",
    ")\n",
    "plt.savefig(f\"{output_dir}/Figure_A2_total_downwelling_bias_time_mean.eps\", bbox_inches='tight')"
   ]
  },
  {
   "cell_type": "code",
   "execution_count": null,
   "metadata": {},
   "outputs": [],
   "source": [
    "varnames = ['SHTFLsfc_time_mean', 'LHTFLsfc_time_mean']\n",
    "combined_name = 'turbulent_fluxes'\n",
    "run_da = run_dataset[varnames].to_array(dim='varnames', name=combined_name)\n",
    "verification_da = verification_dataset[varnames].to_array(dim='varnames', name=combined_name)\n",
    "diff_ds = (\n",
    "    viz.mappable_var(\n",
    "        xr.merge(\n",
    "            [(run_da - verification_da).sel({'cases': ['nudging only', 'nudging + prescribed rad. & precip']}), grid_c48]\n",
    "        ).assign_coords({'varnames': ['SHF', 'LHF']}),\n",
    "        combined_name,\n",
    "        **MAPPABLE_VAR_KWARGS\n",
    "    )\n",
    ")\n",
    "diff_ds[combined_name] = diff_ds[combined_name].assign_attrs({'long_name': 'coarse - fine bias', 'units': '$W/m^2$'})\n",
    "with ProgressBar():\n",
    "    diff_ds = diff_ds.load()\n",
    "    land_mean_ = _var_land_mean(diff_ds[combined_name], grid_c48['area'], grid_c48['land_sea_mask']).load()\n",
    "    \n",
    "print(land_mean_.values)"
   ]
  },
  {
   "cell_type": "code",
   "execution_count": null,
   "metadata": {},
   "outputs": [],
   "source": [
    "fig = prognostic_time_mean_maps(\n",
    "    diff_ds,\n",
    "    row='varnames',\n",
    "    bias=('land mean', land_mean_.values),\n",
    "    plot_cube_kwargs=dict(vmin=-50, vmax=50),\n",
    "    fig_size=[7.6, 5]\n",
    ")\n",
    "fig.savefig(f\"{output_dir}/Figure_A4_turbulent_flux_bias_time_mean.eps\", bbox_inches='tight')"
   ]
  },
  {
   "cell_type": "code",
   "execution_count": null,
   "metadata": {},
   "outputs": [],
   "source": [
    "# this converts matplotlib eps files to a more manageable size\n",
    "\n",
    "!epstopdf figures/Figure_A2_total_downwelling_bias_time_mean.eps\n",
    "!pdftops -eps figures/Figure_A2_total_downwelling_bias_time_mean.pdf\n",
    "!rm figures/Figure_A2_total_downwelling_bias_time_mean.pdf\n",
    "\n",
    "!epstopdf figures/Figure_A4_turbulent_flux_bias_time_mean.eps\n",
    "!pdftops -eps figures/Figure_A4_turbulent_flux_bias_time_mean.pdf\n",
    "!rm figures/Figure_A4_turbulent_flux_bias_time_mean.pdf"
   ]
  },
  {
   "cell_type": "code",
   "execution_count": null,
   "metadata": {},
   "outputs": [],
   "source": []
  }
 ],
 "metadata": {
  "kernelspec": {
   "display_name": "fv3net kernel",
   "language": "python",
   "name": "fv3net"
  },
  "language_info": {
   "codemirror_mode": {
    "name": "ipython",
    "version": 3
   },
   "file_extension": ".py",
   "mimetype": "text/x-python",
   "name": "python",
   "nbconvert_exporter": "python",
   "pygments_lexer": "ipython3",
   "version": "3.7.10"
  }
 },
 "nbformat": 4,
 "nbformat_minor": 4
}
