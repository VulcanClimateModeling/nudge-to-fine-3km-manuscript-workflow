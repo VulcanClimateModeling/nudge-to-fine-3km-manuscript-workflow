{
 "cells": [
  {
   "cell_type": "markdown",
   "id": "cheap-frame",
   "metadata": {},
   "source": [
    "### time-mean dQ2 target vs RF/NN-ens prediction maps "
   ]
  },
  {
   "cell_type": "code",
   "execution_count": null,
   "id": "raised-logan",
   "metadata": {},
   "outputs": [],
   "source": [
    "import fv3viz\n",
    "import xarray as xr\n",
    "import fsspec\n",
    "import numpy as np\n",
    "from dataclasses import dataclass\n",
    "from typing import Sequence, Mapping\n",
    "import os\n",
    "import string\n",
    "from vcm.catalog import catalog as CATALOG\n",
    "from matplotlib import pyplot as plt\n",
    "import matplotlib\n",
    "matplotlib.rcParams.update({'font.size': 8})\n",
    "from cartopy import crs as ccrs"
   ]
  },
  {
   "cell_type": "code",
   "execution_count": null,
   "id": "vital-conditions",
   "metadata": {},
   "outputs": [],
   "source": [
    "@dataclass\n",
    "class MLOfflineDiags:\n",
    "    name: str\n",
    "    root: str\n",
    "    model_variables: Mapping[str, Sequence[str]]\n",
    "        \n",
    "@dataclass\n",
    "class Variable:\n",
    "    name: str\n",
    "    long_name: str\n",
    "    units: str"
   ]
  },
  {
   "cell_type": "code",
   "execution_count": null,
   "id": "unnecessary-disposal",
   "metadata": {},
   "outputs": [],
   "source": [
    "dQ1 = Variable('column_integrated_dQ1', 'column-integrated heating ($\\Delta Q_T$)', 'W/m^2')\n",
    "dQ2 = Variable('column_integrated_dQ2', 'column-integrated moistening ($\\Delta Q_q$)', 'mm/day')\n",
    "dQu = Variable('column_integrated_dQu', 'column-integrated easterly wind tendency ($\\Delta Q_u$)', 'Pa')\n",
    "dQv = Variable('column_integrated_dQv', 'column-integrated northerly wind tendency ($\\Delta Q_v$)', 'Pa')\n",
    "downward_shortwave = Variable('override_for_time_adjusted_total_sky_downward_shortwave_flux_at_surface', 'downward shortwave', 'W/m^2')\n",
    "downward_longwave = Variable('override_for_time_adjusted_total_sky_downward_longwave_flux_at_surface', 'downward longwave', 'W/m^2')\n",
    "net_shortwave = Variable('override_for_time_adjusted_total_sky_net_shortwave_flux_at_surface', 'net shortwave', 'W/m^2')\n",
    "\n",
    "RUNS = [\n",
    "    MLOfflineDiags(\n",
    "        '$TqR$-RF',\n",
    "        'gs://vcm-ml-experiments/2021-06-21-nudge-to-c3072-dq1-dq2-only/rf/offline_diags',\n",
    "        {\n",
    "            'postphysics_ML_tendencies': [dQ1, dQ2],\n",
    "            'prephysics_ML_surface_flux': [downward_shortwave, downward_longwave, net_shortwave]\n",
    "        }\n",
    "    ),\n",
    "    MLOfflineDiags(\n",
    "        '$TqR$-NN',\n",
    "         'gs://vcm-ml-experiments/2021-05-11-nudge-to-c3072-corrected-winds/nn-ensemble-model/offline_diags',\n",
    "        {\n",
    "            'dq1-dq2': [dQ1, dQ2],\n",
    "            'dqu-dqv': [dQu, dQv],\n",
    "            'surface-rad-rectified': [downward_shortwave, downward_longwave, net_shortwave]\n",
    "        }\n",
    "    )       \n",
    "]\n",
    "\n",
    "OUTDIR = 'figures'"
   ]
  },
  {
   "cell_type": "code",
   "execution_count": null,
   "id": "intellectual-behavior",
   "metadata": {},
   "outputs": [],
   "source": [
    "def open_diags(path):\n",
    "    with fsspec.open(path, 'rb') as f:\n",
    "        ds = xr.open_dataset(f).load()\n",
    "    return ds\n",
    "\n",
    "pred_datasets = []\n",
    "target_ds = {}\n",
    "for run in RUNS:\n",
    "    run_pred_ds = {}\n",
    "    for model in run.model_variables.keys():\n",
    "        path = os.path.join(run.root, model, 'offline_diagnostics.nc')\n",
    "        print(path)\n",
    "        diags = open_diags(path)\n",
    "        for variable in run.model_variables[model]:\n",
    "            if variable.name not in target_ds:\n",
    "                target_ds[variable.name] = (\n",
    "                    diags[variable.name]\n",
    "                    .sel(derivation='target')\n",
    "                    .drop_vars('derivation')\n",
    "                ).assign_attrs({\n",
    "                'long_name': variable.long_name,\n",
    "                'units': variable.units\n",
    "            })\n",
    "            run_pred_ds[variable.name + '_bias'] = (\n",
    "                diags[variable.name]\n",
    "                .sel(derivation='predict')\n",
    "                .drop_vars('derivation') - target_ds[variable.name]\n",
    "            ).assign_attrs({\n",
    "                'long_name': variable.long_name,\n",
    "                'units': variable.units\n",
    "            })\n",
    "            run_pred_ds[variable.name] = (\n",
    "                diags[variable.name]\n",
    "                .sel(derivation='predict')\n",
    "                .drop_vars('derivation')\n",
    "            ).assign_attrs({\n",
    "                'long_name': variable.long_name,\n",
    "                'units': variable.units\n",
    "            })\n",
    "    for variable in [dQu, dQv]:\n",
    "        if variable.name not in run_pred_ds:\n",
    "            run_pred_ds[variable.name] = xr.full_like(run_pred_ds['column_integrated_dQ1'], np.nan)\n",
    "            run_pred_ds[variable.name + '_bias'] = xr.full_like(run_pred_ds['column_integrated_dQ1'], np.nan)\n",
    "    pred_datasets.append(xr.Dataset(run_pred_ds).expand_dims({'derivation': [run.name]}))\n",
    "pred_ds = xr.concat(pred_datasets, dim='derivation')\n",
    "target_ds = xr.Dataset(target_ds).expand_dims({'derivation': ['target']})"
   ]
  },
  {
   "cell_type": "code",
   "execution_count": null,
   "id": "precious-estimate",
   "metadata": {},
   "outputs": [],
   "source": [
    "ds = xr.merge([pred_ds, target_ds]).reindex({'derivation': ['target', '$TqR$-RF', '$TqR$-NN']})"
   ]
  },
  {
   "cell_type": "code",
   "execution_count": null,
   "id": "436da2fb-2b43-46c3-bbf4-c90acc1b9c61",
   "metadata": {},
   "outputs": [],
   "source": [
    "def weighted_mean(ds, weights):\n",
    "    return ((ds*weights).sum(dim=['x', 'y', 'tile']))/(weights.sum(dim=['x', 'y', 'tile']))\n",
    "\n",
    "def weighted_rms(ds, weights):\n",
    "    return np.sqrt(\n",
    "        (((ds**2)*weights).sum(dim=['x', 'y', 'tile']))/(weights.sum(dim=['x', 'y', 'tile']))\n",
    "    )"
   ]
  },
  {
   "cell_type": "code",
   "execution_count": null,
   "id": "fallen-stationery",
   "metadata": {},
   "outputs": [],
   "source": [
    "grid = CATALOG['grid/c48'].to_dask()\n",
    "MAPPABLE_VAR_KWARGS = {\n",
    "    \"coord_x_center\": \"x\",\n",
    "    \"coord_y_center\": \"y\",\n",
    "    \"coord_x_outer\": \"x_interface\",\n",
    "    \"coord_y_outer\": \"y_interface\",\n",
    "    \"coord_vars\": {\n",
    "        \"lonb\": [\"y_interface\", \"x_interface\", \"tile\"],\n",
    "        \"latb\": [\"y_interface\", \"x_interface\", \"tile\"],\n",
    "        \"lon\": [\"y\", \"x\", \"tile\"],\n",
    "        \"lat\": [\"y\", \"x\", \"tile\"],\n",
    "    },\n",
    "}"
   ]
  },
  {
   "cell_type": "code",
   "execution_count": null,
   "id": "variable-player",
   "metadata": {},
   "outputs": [],
   "source": [
    "var = 'column_integrated_dQ2'\n",
    "means = weighted_mean(ds[var], grid['area'])\n",
    "rmses = weighted_rms(ds[var + '_bias'], grid['area'])\n",
    "_, _, _, cbar, fg = fv3viz.plot_cube(\n",
    "    fv3viz.mappable_var(xr.merge([grid, ds]), var, **MAPPABLE_VAR_KWARGS),\n",
    "    col = 'derivation'\n",
    ")\n",
    "for i, (ax, case, mean, rmse) in enumerate(zip(fg.axes.flatten(), ds.derivation.values, means.values, rmses.values)):\n",
    "    if case != 'target':\n",
    "        ax.set_title(f\"{string.ascii_lowercase[i]}) {case}\\nmean: {mean:.2f}, rmse: {rmse:.2f}\")\n",
    "    else:\n",
    "        ax.set_title(f\"{string.ascii_lowercase[i]}) {case}\\nmean: {mean:.2f}\")\n",
    "cbar.set_ticks(np.linspace(-3, 3, 7))\n",
    "fg.fig.set_size_inches([7.6, 2])\n",
    "fg.fig.savefig(f'{OUTDIR}/Figure_5_column_integrated_dQ2_offline_time_mean.eps', bbox_inches='tight', dpi=150)"
   ]
  },
  {
   "cell_type": "code",
   "execution_count": null,
   "id": "86ce7c2c-e8b5-4fb9-b11e-9ae4730e7f2b",
   "metadata": {},
   "outputs": [],
   "source": [
    "def add_total_downward(ds):\n",
    "    total_downward_bias = (\n",
    "        ds['override_for_time_adjusted_total_sky_downward_shortwave_flux_at_surface_bias'] + ds['override_for_time_adjusted_total_sky_downward_longwave_flux_at_surface_bias']\n",
    "    ).assign_attrs({'long_name': 'total downwelling surface radiation bias', 'units': '$W/m^2$'})\n",
    "    ds['downward_total_radiative_flux_at_surface_bias'] = total_downward_bias\n",
    "    return ds\n",
    "\n",
    "ds = add_total_downward(ds)"
   ]
  },
  {
   "cell_type": "code",
   "execution_count": null,
   "id": "demonstrated-reaction",
   "metadata": {},
   "outputs": [],
   "source": [
    "var = 'downward_total_radiative_flux_at_surface_bias'\n",
    "ds_pred = ds.sel({'derivation': ['$TqR$-RF', '$TqR$-NN']})\n",
    "means = weighted_mean(ds_pred[var], grid['area'])\n",
    "rmss = weighted_rms(ds_pred[var], grid['area'])\n",
    "\n",
    "_, _, _, _, fg = fv3viz.plot_cube(\n",
    "    fv3viz.mappable_var(xr.merge([grid, ds_pred]), var, **MAPPABLE_VAR_KWARGS),\n",
    "    col = 'derivation'\n",
    ")\n",
    "for i, (ax, case, mean, rms) in enumerate(zip(fg.axes.flatten(), ds_pred.derivation.values, means.values, rmss.values)):\n",
    "    ax.set_title(f\"{string.ascii_lowercase[i]}) {case}\\nmean:{mean:.1f}, rms: {rms:0.1f}\")\n",
    "fg.fig.set_size_inches([7.6, 2])\n",
    "fg.fig.savefig(\n",
    "    f'{OUTDIR}/Figure_A3_downward_total_radiative_flux_at_surface_bias_offline_time_mean.eps',\n",
    "    bbox_inches='tight'\n",
    ")"
   ]
  },
  {
   "cell_type": "code",
   "execution_count": null,
   "id": "4f7dca86-123e-46fe-9a71-b74c94365dda",
   "metadata": {},
   "outputs": [],
   "source": [
    "# this converts matplotlib eps files to a more manageable size\n",
    "\n",
    "!epstopdf figures/Figure_5_column_integrated_dQ2_offline_time_mean.eps\n",
    "!pdftops -eps figures/Figure_5_column_integrated_dQ2_offline_time_mean.pdf\n",
    "!rm figures/Figure_5_column_integrated_dQ2_offline_time_mean.pdf\n",
    "\n",
    "!epstopdf figures/Figure_A3_downward_total_radiative_flux_at_surface_bias_offline_time_mean.eps\n",
    "!pdftops -eps figures/Figure_A3_downward_total_radiative_flux_at_surface_bias_offline_time_mean.pdf\n",
    "!rm figures/Figure_A3_downward_total_radiative_flux_at_surface_bias_offline_time_mean.pdf"
   ]
  }
 ],
 "metadata": {
  "kernelspec": {
   "display_name": "fv3net kernel",
   "language": "python",
   "name": "fv3net"
  },
  "language_info": {
   "codemirror_mode": {
    "name": "ipython",
    "version": 3
   },
   "file_extension": ".py",
   "mimetype": "text/x-python",
   "name": "python",
   "nbconvert_exporter": "python",
   "pygments_lexer": "ipython3",
   "version": "3.7.10"
  }
 },
 "nbformat": 4,
 "nbformat_minor": 5
}
