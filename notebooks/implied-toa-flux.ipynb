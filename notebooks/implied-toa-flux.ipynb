{
 "cells": [
  {
   "cell_type": "code",
   "execution_count": null,
   "metadata": {},
   "outputs": [],
   "source": [
    "import numpy as np\n",
    "import xarray as xr\n",
    "import fsspec\n",
    "import matplotlib.pyplot as plt\n",
    "import fv3viz\n",
    "import os\n",
    "from fv3net.diagnostics.prognostic_run.load_run_data import load_physics, load_grid, load_verification\n",
    "from fv3net.diagnostics.prognostic_run import get_verification_entries\n",
    "from fv3net.diagnostics.prognostic_run.derived_variables import physics_variables\n",
    "from vcm.catalog import catalog\n",
    "from dask.diagnostics import ProgressBar\n",
    "plt.rcParams['figure.dpi'] = 300\n",
    "xr.set_options(keep_attrs=True)"
   ]
  },
  {
   "cell_type": "code",
   "execution_count": null,
   "metadata": {},
   "outputs": [],
   "source": [
    "MAPPABLE_VAR_KWARGS = {\n",
    "    \"coord_x_center\": \"x\",\n",
    "    \"coord_y_center\": \"y\",\n",
    "    \"coord_x_outer\": \"x_interface\",\n",
    "    \"coord_y_outer\": \"y_interface\",\n",
    "    \"coord_vars\": {\n",
    "        \"lonb\": [\"y_interface\", \"x_interface\", \"tile\"],\n",
    "        \"latb\": [\"y_interface\", \"x_interface\", \"tile\"],\n",
    "        \"lon\": [\"y\", \"x\", \"tile\"],\n",
    "        \"lat\": [\"y\", \"x\", \"tile\"],\n",
    "    },\n",
    "}\n",
    "\n",
    "def global_mean(da, w, dims=['tile', 'x', 'y']):\n",
    "    gm = (da * w).sum(dims) / w.sum(dims)\n",
    "    return gm.assign_attrs(da.attrs)\n",
    "\n",
    "GRID_VARS = ['lon', 'lat', 'lonb', 'latb', 'area']\n",
    "\n",
    "REQUIRED_VARIABLES = [\n",
    "    'DLWRFsfc',\n",
    "    'DLWRFsfc_from_RRTMG',\n",
    "    'DSWRFsfc',\n",
    "    'DSWRFsfc_from_RRTMG',\n",
    "    'ULWRFsfc',\n",
    "    'USWRFsfc',\n",
    "    'USWRFsfc_from_RRTMG',\n",
    "    'ULWRFtoa',\n",
    "    'USWRFtoa',\n",
    "    'DSWRFtoa',\n",
    "    'column_integrated_dQ1',\n",
    "    'column_integrated_dQ2',\n",
    "    'column_integrated_nQ1',\n",
    "    'column_integrated_nQ2',\n",
    "] + GRID_VARS"
   ]
  },
  {
   "cell_type": "markdown",
   "metadata": {},
   "source": [
    "### Load physics diagnostics for runs"
   ]
  },
  {
   "cell_type": "code",
   "execution_count": null,
   "metadata": {},
   "outputs": [],
   "source": [
    "urls = {\n",
    "    'baseline': 'gs://vcm-ml-experiments/2021-04-13/baseline-physics-run-20160805-start-rad-step-1800s',\n",
    "    'nudged': 'gs://vcm-ml-experiments/2021-04-13-n2f-c3072/3-hrly-ave-rad-precip-setting-30-min-rad-timestep-shifted-start-tke-edmf',\n",
    "    '$TqR$-RF': 'gs://vcm-ml-experiments/2021-06-21-nudge-to-c3072-dq1-dq2-only/rf/initial_conditions_runs/20160805.000000_with_RRTMG',\n",
    "    '$TquvR$-RF': 'gs://vcm-ml-experiments/2021-05-11-nudge-to-c3072-corrected-winds/rf/initial_conditions_runs/20160805.000000_with_RRTMG',\n",
    "    '$TqR$-NN': 'gs://vcm-ml-experiments/2021-06-21-nudge-to-c3072-dq1-dq2-only/nn-ensemble-model/initial_conditions_runs/20160805.000000_with_RRTMG'\n",
    "}\n",
    "start_time = '2016-08-05T00:15:00'\n",
    "end_time = '2016-09-10T00:00:00'"
   ]
  },
  {
   "cell_type": "code",
   "execution_count": null,
   "metadata": {},
   "outputs": [],
   "source": [
    "verif_entries = get_verification_entries('40day_may2020', catalog)['physics']\n",
    "diags = []\n",
    "for run, url in urls.items():\n",
    "    tmp = load_physics(url, catalog)\n",
    "    tmp = physics_variables(tmp.sel(time=slice(start_time, end_time)))\n",
    "    verif = load_verification(verif_entries, catalog)\n",
    "    verif = physics_variables(verif.sel(time=slice(start_time, end_time)))\n",
    "    grid = load_grid(catalog)\n",
    "    for varname in ['DLWRFsfc_from_RRTMG', 'DSWRFsfc_from_RRTMG', 'USWRFsfc_from_RRTMG']:\n",
    "        # add copies for \"from_RRTMG\" variables if not existing \n",
    "        # i.e. for baseline/verif, actual applied fluxes are same as from_RRTMG\n",
    "        shortname = varname.split('_')[0]\n",
    "        if varname not in tmp:\n",
    "            tmp[varname] = tmp[shortname]\n",
    "            tmp[varname].attrs['long_name'] = tmp[shortname].attrs['long_name'] + ' due to RRTMG'\n",
    "        if varname not in verif:\n",
    "            verif[varname] = verif[shortname]\n",
    "            verif[varname].attrs['long_name'] = verif[shortname].attrs['long_name'] + ' due to RRTMG'\n",
    "    variables_to_drop = [v for v in tmp.data_vars if v not in REQUIRED_VARIABLES]\n",
    "    diags.append(tmp.drop_vars(variables_to_drop).assign_coords(experiment=run))\n",
    "\n",
    "variables_to_drop = [v for v in verif.data_vars if v not in REQUIRED_VARIABLES]\n",
    "verif = verif.drop_vars(variables_to_drop)\n",
    "diags.append(xr.merge([verif, grid]).assign_coords(experiment='fine-res'))\n",
    "diags = xr.concat(diags, dim='experiment')\n",
    "diags = diags.set_coords(['lon', 'lat', 'lonb', 'latb', 'area'])"
   ]
  },
  {
   "cell_type": "markdown",
   "metadata": {},
   "source": [
    "### Compute $<dQm>$"
   ]
  },
  {
   "cell_type": "code",
   "execution_count": null,
   "metadata": {},
   "outputs": [],
   "source": [
    "L = 2.5e6\n",
    "seconds_per_day = 86400\n",
    "\n",
    "diags['column_integrated_dQm'] = diags.column_integrated_dQ1 + L * diags.column_integrated_dQ2 / seconds_per_day\n",
    "diags['column_integrated_nQm'] = diags.column_integrated_nQ1 + L * diags.column_integrated_nQ2 / seconds_per_day\n",
    "diags['column_integrated_dQm_or_nQm'] = diags['column_integrated_dQm'] + diags['column_integrated_nQm']\n",
    "diags['column_integrated_dQm_or_nQm'].attrs['long_name'] = 'column MSE tendency due to nudging or ML'"
   ]
  },
  {
   "cell_type": "markdown",
   "metadata": {},
   "source": [
    "### Compute net fluxes"
   ]
  },
  {
   "cell_type": "code",
   "execution_count": null,
   "metadata": {},
   "outputs": [],
   "source": [
    "diags['net_downward_toa_flux'] =  diags.DSWRFtoa - diags.USWRFtoa - diags.ULWRFtoa\n",
    "diags['net_downward_toa_flux'].attrs['long_name'] = 'net downward TOA radiative flux due to RRTMG'\n",
    "\n",
    "diags['net_downward_sfc_rad_flux_RRTMG'] = diags.DLWRFsfc_from_RRTMG + diags.DSWRFsfc_from_RRTMG - diags.USWRFsfc_from_RRTMG - diags.ULWRFsfc\n",
    "diags['net_downward_sfc_rad_flux_RRTMG'].attrs['long_name'] = 'net downward surface radiative flux due to RRTMG'\n",
    "\n",
    "diags['net_downward_sfc_rad_flux_applied'] = diags.DLWRFsfc + diags.DSWRFsfc - diags.USWRFsfc - diags.ULWRFsfc\n",
    "diags['net_downward_sfc_rad_flux_applied'].attrs['long_name'] = 'net downward surface radiative flux felt by surface'\n",
    "\n",
    "diags['net_downward_flux_due_to_sfc_radiation_fix'] = diags.net_downward_sfc_rad_flux_applied - diags.net_downward_sfc_rad_flux_RRTMG\n",
    "diags['net_downward_flux_due_to_sfc_radiation_fix'].attrs['long_name'] = 'implied downward flux due to predicting or prescribing surface radiation'\n",
    "\n",
    "diags['implied_downward_toa_flux'] = diags.net_downward_toa_flux + diags.column_integrated_dQm_or_nQm + diags.net_downward_flux_due_to_sfc_radiation_fix\n",
    "diags['implied_downward_toa_flux'].attrs['long_name'] = 'implied net downward TOA flux'"
   ]
  },
  {
   "cell_type": "code",
   "execution_count": null,
   "metadata": {},
   "outputs": [],
   "source": [
    "variables_of_interest = [\n",
    "    'net_downward_flux_due_to_sfc_radiation_fix',\n",
    "    'net_downward_toa_flux',\n",
    "    'column_integrated_dQm_or_nQm',\n",
    "    'implied_downward_toa_flux',\n",
    "]"
   ]
  },
  {
   "cell_type": "markdown",
   "metadata": {},
   "source": [
    "### Plot time-mean over first 7 days of run"
   ]
  },
  {
   "cell_type": "code",
   "execution_count": null,
   "metadata": {},
   "outputs": [],
   "source": [
    "plot_start_time = '2016-08-05T00:15:00'\n",
    "plot_end_time = '2016-08-12T00:00:00'\n",
    "with ProgressBar():\n",
    "    diags_time_mean_7day = diags[variables_of_interest + GRID_VARS].sel(\n",
    "        time=slice(plot_start_time, plot_end_time)\n",
    "    ).mean('time').compute()"
   ]
  },
  {
   "cell_type": "code",
   "execution_count": null,
   "metadata": {},
   "outputs": [],
   "source": [
    "for variable in variables_of_interest:\n",
    "    gm = global_mean(diags_time_mean_7day[variable], diags.area)\n",
    "    mv = fv3viz.mappable_var(diags_time_mean_7day, variable, **MAPPABLE_VAR_KWARGS)\n",
    "    fg = fv3viz.plot_cube(mv, col='experiment')[-1]\n",
    "    axes = fg.axes\n",
    "    for i, ax in enumerate(axes[0]):\n",
    "        experiment = diags_time_mean_7day.experiment.values[i]\n",
    "        ax.set_title(f'{experiment} ({gm.values[i]:.1f} W/m**2)')\n",
    "    fg.fig.set_size_inches(24, 3)"
   ]
  },
  {
   "cell_type": "code",
   "execution_count": null,
   "metadata": {},
   "outputs": [],
   "source": []
  }
 ],
 "metadata": {
  "kernelspec": {
   "display_name": "fv3net kernel",
   "language": "python",
   "name": "fv3net"
  },
  "language_info": {
   "codemirror_mode": {
    "name": "ipython",
    "version": 3
   },
   "file_extension": ".py",
   "mimetype": "text/x-python",
   "name": "python",
   "nbconvert_exporter": "python",
   "pygments_lexer": "ipython3",
   "version": "3.7.10"
  }
 },
 "nbformat": 4,
 "nbformat_minor": 4
}
