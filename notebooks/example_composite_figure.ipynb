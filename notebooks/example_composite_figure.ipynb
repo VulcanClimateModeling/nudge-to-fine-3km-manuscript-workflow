{
 "cells": [
  {
   "cell_type": "code",
   "execution_count": 2,
   "metadata": {},
   "outputs": [],
   "source": [
    "%matplotlib inline\n",
    "import matplotlib.pyplot as plt\n",
    "import matplotlib.image as mpimg\n",
    "\n",
    "\n",
    "baseline = mpimg.imread(\"figures/prognostic_sfc_precip_rmse_map_baseline_physics.png\")\n",
    "rf = mpimg.imread(\"figures/prognostic_sfc_precip_rmse_map_random_forest.png\")\n",
    "nn = mpimg.imread(\"figures/prognostic_sfc_precip_rmse_map_neural_network_ensemble.png\")\n",
    "bar = mpimg.imread(\"figures/prognostic_sfc_precip_rmse_bar_plot.png\")\n",
    "plt.figure()\n",
    "\n",
    "#subplot(r,c) provide the no. of rows and columns\n",
    "f, axarr = plt.subplots(2,2, figsize=(35,20)) \n",
    "plt.axis('off')\n",
    "\n",
    "axarr[0][0].imshow(baseline)\n",
    "axarr[0][0].set_axis_off()\n",
    "axarr[0][0].text(0.05, 0.9, \"a)\", va='top', fontsize=32, transform=axarr[0][0].transAxes)\n",
    "\n",
    "axarr[0][1].imshow(rf)\n",
    "axarr[0][1].set_axis_off()\n",
    "axarr[0][1].text(0.05, 0.9, \"b)\", va='top', fontsize=32, transform=axarr[0][1].transAxes)\n",
    "\n",
    "axarr[1][0].imshow(nn)\n",
    "axarr[1][0].set_axis_off()\n",
    "axarr[1][0].text(0.05, 0.9, \"c)\", va='top', fontsize=32, transform=axarr[1][0].transAxes)\n",
    "\n",
    "\n",
    "axarr[1][1].imshow(bar)\n",
    "axarr[1][1].set_axis_off()\n",
    "axarr[1][1].text(0.05, 0.9, \"d)\", va='top', fontsize=32, transform=axarr[1][1].transAxes)\n",
    "\n",
    "plt.savefig(\"figures/composite_sfc_precip_pattern_error.png\")"
   ]
  },
  {
   "cell_type": "code",
   "execution_count": null,
   "metadata": {},
   "outputs": [],
   "source": []
  }
 ],
 "metadata": {
  "kernelspec": {
   "display_name": "fv3net",
   "language": "python",
   "name": "fv3net"
  },
  "language_info": {
   "codemirror_mode": {
    "name": "ipython",
    "version": 3
   },
   "file_extension": ".py",
   "mimetype": "text/x-python",
   "name": "python",
   "nbconvert_exporter": "python",
   "pygments_lexer": "ipython3",
   "version": "3.7.9"
  }
 },
 "nbformat": 4,
 "nbformat_minor": 4
}
